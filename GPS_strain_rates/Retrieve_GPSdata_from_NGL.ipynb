{
 "cells": [
  {
   "cell_type": "code",
   "execution_count": null,
   "metadata": {},
   "outputs": [],
   "source": [
    "import numpy as np\n",
    "import matplotlib.pyplot as plt\n",
    "import matplotlib.gridspec as gridspec\n",
    "import os\n",
    "from datetime import datetime, timedelta\n",
    "import pickle\n",
    "import ipywidgets as widgets\n",
    "import cartopy.crs as ccrs\n",
    "import cartopy.feature as cfeature\n",
    "\n",
    "plt.rcParams['legend.fontsize'] = 10\n",
    "plt.rcParams.update({'figure.autolayout': True})"
   ]
  },
  {
   "cell_type": "markdown",
   "metadata": {},
   "source": [
    "## GPS_Stations Class\n",
    "The `GPS_Stations` class is a wrapper for a data dictionary, `{Name: time series data}`. The time series data is an Nx4 ndarray, where N is the number of dates, from 2011/4/1 to 2016/12/31. The 4 columns correspond to date (`datetime` type), east, north and up components (all `float` type)."
   ]
  },
  {
   "cell_type": "code",
   "execution_count": null,
   "metadata": {},
   "outputs": [],
   "source": [
    "class GPS_Stations():\n",
    "    def __init__(self):\n",
    "        self.data = {}\n",
    "    def add(self, station_name, date, x, y, z):\n",
    "        if station_name in self.data:\n",
    "            # if the station is already in the data dictionary, append a new row of data [date,x,y,z]\n",
    "            self.data.update( {station_name : np.append( self.data[station_name], np.array([date,x,y,z]).reshape(1,4), axis=0 ) } )\n",
    "        else: # if first time adding this station, create a key:data pair.\n",
    "            self.data.update( {station_name : np.array([date,x,y,z]).reshape(1,4)} )"
   ]
  },
  {
   "cell_type": "markdown",
   "metadata": {},
   "source": [
    "## Loading Data\n",
    "If a pickled data object exists, load and use it as an instance of `GPS_Stations` class named `Korea_GPS_Stations`. If not, i.e., `DATA_EXISTS==False`, read the data files retrived from the repository associated with (Kim et al., Tectonics, 2018) to create and populate an instance of `GPS_Stations` named `Korea_GPS_Stations`. \n",
    "\n",
    "If a pickled `GPS_Stations` data object exists, the first cell will just load it rather than read the coordinate files again. In this case, `DATA_EXISTS` is set to `True` so that the second cell can be skipped.\n",
    "\n",
    "If such a pickled object does not exist (`DATA_EXISTS == False`), the second cell below should be run. Then, the newly created object is pickled for later use."
   ]
  },
  {
   "cell_type": "code",
   "execution_count": null,
   "metadata": {},
   "outputs": [],
   "source": [
    "DATA_EXISTS = False\n",
    "try: \n",
    "    Korea_GPS_Stations = pickle.load( open( \"Korea_GPS_Stations.p\", \"rb\" ) )\n",
    "    if Korea_GPS_Stations:\n",
    "        DATA_EXISTS = True\n",
    "        print(\"Data object exists\")\n",
    "except FileNotFoundError:\n",
    "    print(\"Failed to load the pickled data. Move to the next cell.\")"
   ]
  },
  {
   "cell_type": "code",
   "execution_count": null,
   "metadata": {},
   "outputs": [],
   "source": [
    "if DATA_EXISTS == False:\n",
    "    data_dir = \"GPS Daily Coordinate data (2011 to 2016)/Coordinate\"\n",
    "    Korea_GPS_Stations = GPS_Stations()\n",
    "    years = np.arange(2011,2017)\n",
    "    #print(years)\n",
    "    networks = np.array(['KASI', 'NGII'])\n",
    "    #print(networks)\n",
    "    for yr in years:\n",
    "        for nt in networks:\n",
    "            path = \"./{0:s}/{1}/{2}\".format(data_dir, yr, nt)\n",
    "            #print(path)\n",
    "            for f in os.listdir(path):\n",
    "                fname = \"{0}/{1}\".format(path,f)\n",
    "                fi = open(fname, 'r')\n",
    "                lines = fi.readlines()\n",
    "                date = np.datetime64(lines[2].split()[5]).astype(datetime)\n",
    "                if date == datetime(2012,6,1): # exclude outlier\n",
    "                    continue\n",
    "                linecount = 7\n",
    "                for line in lines[7:]:\n",
    "                    linecount += 1\n",
    "                    fields = line.split()\n",
    "                    fieldnum = len(fields)\n",
    "                    if fieldnum == 6:   # valid data without 'Name' field\n",
    "                        name = fields[1]\n",
    "                        x = float(fields[2])\n",
    "                        y = float(fields[3])\n",
    "                        z = float(fields[4])\n",
    "                    elif fieldnum == 7: # valid data with all the fields filled\n",
    "                        name = fields[1]\n",
    "                        x = float(fields[3])\n",
    "                        y = float(fields[4])\n",
    "                        z = float(fields[5])\n",
    "                    elif fieldnum == 5:   # invalid data with 0 0 0 coordinates\n",
    "                        continue  # move on to the next line\n",
    "                    elif fieldnum <= 1: # bottom blank lines\n",
    "                        break     # stop processing this file\n",
    "                    else:               # None of the above. Abort\n",
    "                        print(\"Problem with line {0} in {1}\".format(linecount, fname))\n",
    "                        break     # stop processing this file\n",
    "                    #print(fname, line)\n",
    "                    Korea_GPS_Stations.add(name, date, x, y, z)\n",
    "                fi.close()\n",
    "\n",
    "    # Store the data object for quicker loading later\n",
    "    with open(\"Korea_GPS_Stations.p\", \"wb\") as handle:\n",
    "        pickle.dump(Korea_GPS_Stations, handle, protocol=pickle.HIGHEST_PROTOCOL)\n",
    "    DATA_EXISTS = True"
   ]
  },
  {
   "cell_type": "code",
   "execution_count": null,
   "metadata": {},
   "outputs": [],
   "source": [
    "print( Korea_GPS_Stations.data['PUSN'][-1,1] - Korea_GPS_Stations.data['PUSN'][0,1] )\n",
    "print( Korea_GPS_Stations.data['PUSN'][-1,0],Korea_GPS_Stations.data['PUSN'][0,0] )"
   ]
  },
  {
   "cell_type": "code",
   "execution_count": null,
   "metadata": {},
   "outputs": [],
   "source": [
    "import os\n",
    "for station in Korea_GPS_Stations.data.keys():\n",
    "    cmd = \"wget http://geodesy.unr.edu/gps_timeseries/txyz/IGS14/{0}.txyz2\".format(station)\n",
    "    os.sys(cmd)"
   ]
  }
 ],
 "metadata": {
  "kernelspec": {
   "display_name": "Python 3",
   "language": "python",
   "name": "python3"
  },
  "language_info": {
   "codemirror_mode": {
    "name": "ipython",
    "version": 3
   },
   "file_extension": ".py",
   "mimetype": "text/x-python",
   "name": "python",
   "nbconvert_exporter": "python",
   "pygments_lexer": "ipython3",
   "version": "3.8.8"
  }
 },
 "nbformat": 4,
 "nbformat_minor": 4
}
