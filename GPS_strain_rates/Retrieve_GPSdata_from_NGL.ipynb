{
 "cells": [
  {
   "cell_type": "code",
   "execution_count": null,
   "metadata": {},
   "outputs": [],
   "source": [
    "import numpy as np\n",
    "import matplotlib.pyplot as plt\n",
    "import matplotlib.gridspec as gridspec\n",
    "import os\n",
    "from datetime import datetime, timedelta\n",
    "import pickle\n",
    "import ipywidgets as widgets\n",
    "import cartopy.crs as ccrs\n",
    "import cartopy.feature as cfeature\n",
    "\n",
    "plt.rcParams['legend.fontsize'] = 10\n",
    "plt.rcParams.update({'figure.autolayout': True})"
   ]
  },
  {
   "cell_type": "markdown",
   "metadata": {},
   "source": [
    "## Downloading Data"
   ]
  },
  {
   "cell_type": "code",
   "execution_count": null,
   "metadata": {},
   "outputs": [],
   "source": [
    "with open('List_of_NGL_stations.txt','r') as station_list_file:\n",
    "    stations = station_list_file.read().splitlines()\n",
    "print(stations, len(stations))"
   ]
  },
  {
   "cell_type": "code",
   "execution_count": null,
   "metadata": {},
   "outputs": [],
   "source": [
    "NGL_dir = \"./PreTohoku_deformation_field\"\n",
    "\"\"\"\n",
    "-q: suppress output\n",
    "-nc: avoid duplicate downloads\n",
    "-P PATH: set prefix to the path where downloaded files are written.\n",
    "\"\"\"\n",
    "for station in stations:\n",
    "    cmd = \"wget -q -nc -P {0} http://geodesy.unr.edu/gps_timeseries/txyz/IGS14/{1}.txyz2\".format(NGL_dir, station)\n",
    "    status = os.system(cmd)\n",
    "    if status == 0:\n",
    "        cmd2 = \"wget -q -nc -P {0} http://geodesy.unr.edu/NGLStationPages/stations/{1}.sta\".format(NGL_dir, station)\n",
    "        status2 = os.system(cmd2)\n",
    "        if status2 != 0:\n",
    "            print(\"Station info for {0} doesn't exist!\".format(staion))\n",
    "    if status != 0:\n",
    "        print(\"Data file for {0} doesn't exist!\".format(station))"
   ]
  },
  {
   "cell_type": "code",
   "execution_count": null,
   "metadata": {},
   "outputs": [],
   "source": [
    "import glob\n",
    "\n",
    "# absolute path to search all text files inside a specific folder\n",
    "path = NGL_dir + '/' + r'*.txyz2'\n",
    "datafile_names = glob.glob(path)\n",
    "\n",
    "# print(datafile_names)"
   ]
  },
  {
   "cell_type": "code",
   "execution_count": null,
   "metadata": {},
   "outputs": [],
   "source": [
    "stations_longenough = []\n",
    "start_date = datetime(2008,1,1).date()\n",
    "end_date   = datetime(2011,3,11).date()\n",
    "for fname in datafile_names:\n",
    "#     print(fname)\n",
    "    firstline_content = []\n",
    "    lastline_content = []\n",
    "    \n",
    "    with open(fname, 'r') as datafile:\n",
    "        lastline_content = datafile.readlines()[-1].split()\n",
    "        \n",
    "    with open(fname, 'r') as datafile:\n",
    "        firstline_content = datafile.readline().split()\n",
    "    \n",
    "    station = firstline_content[0]\n",
    "    firstdate_string = firstline_content[1]\n",
    "    lastdate_string = lastline_content[1]\n",
    "    firstdate = datetime.strptime(firstdate_string, \"%y%b%d\").date()\n",
    "    lastdate = datetime.strptime(lastdate_string, \"%y%b%d\").date()\n",
    "    \n",
    "#     print(firstdate, lastdate)\n",
    "    if firstdate < start_date and lastdate >= end_date:\n",
    "        stations_longenough.append(station)\n",
    "\n",
    "print(len(stations_longenough))\n",
    "print(stations_longenough)        "
   ]
  },
  {
   "cell_type": "code",
   "execution_count": null,
   "metadata": {},
   "outputs": [],
   "source": [
    "stations_longenough_dic = {}\n",
    "for station in stations_longenough:\n",
    "    \n",
    "    stationfile_name = NGL_dir + '/' + \"{0}.sta\".format(station)\n",
    "    \n",
    "    lat = 0.0\n",
    "    lon = 0.0\n",
    "    with open(stationfile_name, 'r') as stationfile:\n",
    "        lines = stationfile.readlines()\n",
    "        for line in lines:\n",
    "            if 'Latitude' in line:\n",
    "                lat = float(line.split()[1])\n",
    "            if 'Longitude' in line:\n",
    "                lon = float(line.split()[1])\n",
    "    stations_longenough_dic.update( {station: np.array([lat, lon])} )\n",
    "print(stations_longenough_dic)"
   ]
  },
  {
   "cell_type": "code",
   "execution_count": null,
   "metadata": {},
   "outputs": [],
   "source": [
    "import cartopy.io.img_tiles as cimgt\n",
    "stamen_terrain = cimgt.Stamen('terrain-background')\n",
    "\n",
    "fig = plt.figure()\n",
    "fig.set_figheight(10)\n",
    "fig.set_figwidth(8)\n",
    "\n",
    "#ax = fig.add_subplot(1, 1, 1, projection=ccrs.PlateCarree())\n",
    "ax = fig.add_subplot(1, 1, 1, projection=stamen_terrain.crs)\n",
    "ax.set_extent([124, 131, 32, 39], crs=ccrs.PlateCarree())\n",
    "\n",
    "from cartopy.mpl.gridliner import LONGITUDE_FORMATTER, LATITUDE_FORMATTER\n",
    "import matplotlib.ticker as mticker\n",
    "\n",
    "# Add the Stamen data at zoom level 8.\n",
    "ax.add_image(stamen_terrain, 8)\n",
    "ax.coastlines(resolution='10m')\n",
    "gl = ax.gridlines(draw_labels=True, color='white')\n",
    "gl.xlabels_top = False\n",
    "gl.ylabels_right = False\n",
    "gl.xlocator = mticker.FixedLocator([125, 126, 127, 128, 129, 130, 131])\n",
    "gl.xformatter = LONGITUDE_FORMATTER\n",
    "gl.yformatter = LATITUDE_FORMATTER\n",
    "gl.ylabel_style = {'size': 17, 'color': 'black'}\n",
    "gl.xlabel_style = {'size': 17, 'color': 'black'}\n",
    "\n",
    "for station in stations_longenough_dic.keys():\n",
    "    print(station)\n",
    "    lat, lon = stations_longenough_dic[station]\n",
    "    ax.plot(lon, lat, marker='o', color='red', markersize=12,\n",
    "            alpha=0.7, transform=ccrs.PlateCarree())\n",
    "    ax.text(lon, lat+0.1, station,\n",
    "            verticalalignment='center', horizontalalignment='right',\n",
    "            transform=ccrs.PlateCarree(),\n",
    "            bbox=dict(facecolor='sandybrown', alpha=0.5, boxstyle='round'))\n",
    "plt.show()\n",
    "fig.savefig(\"PreTohoku_stations_map.pdf\")"
   ]
  },
  {
   "cell_type": "code",
   "execution_count": null,
   "metadata": {},
   "outputs": [],
   "source": []
  }
 ],
 "metadata": {
  "kernelspec": {
   "display_name": "Python 3",
   "language": "python",
   "name": "python3"
  },
  "language_info": {
   "codemirror_mode": {
    "name": "ipython",
    "version": 3
   },
   "file_extension": ".py",
   "mimetype": "text/x-python",
   "name": "python",
   "nbconvert_exporter": "python",
   "pygments_lexer": "ipython3",
   "version": "3.8.8"
  }
 },
 "nbformat": 4,
 "nbformat_minor": 4
}
