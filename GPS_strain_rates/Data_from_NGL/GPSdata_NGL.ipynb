{
 "cells": [
  {
   "cell_type": "code",
   "execution_count": 7,
   "metadata": {},
   "outputs": [],
   "source": [
    "import numpy as np\n",
    "import matplotlib.pyplot as plt\n",
    "from datetime import datetime"
   ]
  },
  {
   "cell_type": "code",
   "execution_count": 8,
   "metadata": {},
   "outputs": [],
   "source": [
    "class GPS_Stations():\n",
    "    def __init__(self):\n",
    "        self.data = {}\n",
    "    def add(self, name, date, e, n, u):\n",
    "        self.data.update( {name : np.array([date,e,n,u])} )\n",
    "\n",
    "Korea_GPS_Stations = GPS_Stations()"
   ]
  },
  {
   "cell_type": "code",
   "execution_count": 9,
   "metadata": {},
   "outputs": [],
   "source": [
    "to_string = lambda x: x.decode('UTF-8')\n",
    "available_stations = np.loadtxt(\"available_stations_NGL.dat\", dtype='str', converters={0: to_string})\n",
    "#print(available_stations)"
   ]
  },
  {
   "cell_type": "code",
   "execution_count": 10,
   "metadata": {},
   "outputs": [],
   "source": [
    "def get_data(name):\n",
    "    to_datetime = lambda x: datetime.strptime(x.decode('UTF-8'),\"%y%b%d\")\n",
    "    fname = name+\".EU.tenv3\"\n",
    "    data = np.genfromtxt(fname, usecols=(1,7,8,9,10,11,12), dtype=None, skip_header=1,\n",
    "                         names=('time', 'easting_int', 'easting_float', \n",
    "                                 'northing_int', 'northing_float',\n",
    "                                 'up_int', 'up_float'),\n",
    "                         converters={'time': to_datetime})\n",
    "    #print(name, data['up_float'])\n",
    "    easting = data[\"easting_int\"] + data[\"easting_float\"]\n",
    "    northing = data[\"northing_int\"] + data[\"northing_float\"]\n",
    "    up = data[\"up_int\"] + data[\"up_float\"]\n",
    "    \n",
    "    return data['time'], easting, northing, up"
   ]
  },
  {
   "cell_type": "code",
   "execution_count": 11,
   "metadata": {},
   "outputs": [
    {
     "name": "stdout",
     "output_type": "stream",
     "text": [
      "\n",
      "\n",
      "\n",
      "\n",
      "\n",
      "\n",
      "\n",
      "\n",
      "\n",
      "\n",
      "\n",
      "\n",
      "\n",
      "\n",
      "\n",
      "\n",
      "\n",
      "\n",
      "\n",
      "\n",
      "\n",
      "\n",
      "\n",
      "\n",
      "\n",
      "\n",
      "\n",
      "\n",
      "\n",
      "\n",
      "\n",
      "\n",
      "\n",
      "\n",
      "\n",
      "\n",
      "\n",
      "\n",
      "\n",
      "\n",
      "\n",
      "\n",
      "\n",
      "\n",
      "\n",
      "\n",
      "\n",
      "\n",
      "\n",
      "\n",
      "\n",
      "\n",
      "\n",
      "\n",
      "\n",
      "\n",
      "\n",
      "\n",
      "\n",
      "\n",
      "\n",
      "\n"
     ]
    }
   ],
   "source": [
    "for s in available_stations:\n",
    "    date, e, n, u = get_data(s)\n",
    "    Korea_GPS_Stations.add(s, date, e, n, u)"
   ]
  },
  {
   "cell_type": "code",
   "execution_count": 12,
   "metadata": {},
   "outputs": [
    {
     "name": "stdout",
     "output_type": "stream",
     "text": [
      "23 ['CHJU', 'CHUL', 'CHWN', 'CNJU', 'DAEJ', 'JEJU', 'JINJ', 'JUNJ', 'KANR', 'KOHG', 'KWNJ', 'MARA', 'MKPO', 'MLYN', 'SBAO', 'SEOS', 'SKCH', 'SNJU', 'SOUL', 'SUWN', 'TABK', 'TEGN', 'WULJ']\n"
     ]
    }
   ],
   "source": [
    "gps_data = Korea_GPS_Stations.data\n",
    "count = 0\n",
    "longdata_stations = []\n",
    "for s in available_stations:\n",
    "    if gps_data[s][0][0] < datetime(2013, 1, 1):\n",
    "        #print(s, gps_data[s][0][0])\n",
    "        longdata_stations.append(s)\n",
    "        count += 1\n",
    "print(count, longdata_stations)        "
   ]
  },
  {
   "cell_type": "code",
   "execution_count": 26,
   "metadata": {},
   "outputs": [
    {
     "ename": "ValueError",
     "evalue": "operands could not be broadcast together with shapes (1917,) (0,) ",
     "output_type": "error",
     "traceback": [
      "\u001b[1;31m---------------------------------------------------------------------------\u001b[0m",
      "\u001b[1;31mValueError\u001b[0m                                Traceback (most recent call last)",
      "\u001b[1;32m<ipython-input-26-f1bfec532dc0>\u001b[0m in \u001b[0;36m<module>\u001b[1;34m\u001b[0m\n\u001b[0;32m      3\u001b[0m \u001b[0mind_2005\u001b[0m \u001b[1;33m=\u001b[0m \u001b[0mnp\u001b[0m\u001b[1;33m.\u001b[0m\u001b[0mwhere\u001b[0m\u001b[1;33m(\u001b[0m\u001b[0mgps_data\u001b[0m\u001b[1;33m[\u001b[0m\u001b[0mstation\u001b[0m\u001b[1;33m]\u001b[0m\u001b[1;33m[\u001b[0m\u001b[1;36m0\u001b[0m\u001b[1;33m]\u001b[0m \u001b[1;33m==\u001b[0m \u001b[0mdatetime\u001b[0m\u001b[1;33m(\u001b[0m\u001b[1;36m2005\u001b[0m\u001b[1;33m,\u001b[0m \u001b[1;36m1\u001b[0m\u001b[1;33m,\u001b[0m \u001b[1;36m1\u001b[0m\u001b[1;33m)\u001b[0m\u001b[1;33m)\u001b[0m\u001b[1;33m\u001b[0m\u001b[1;33m\u001b[0m\u001b[0m\n\u001b[0;32m      4\u001b[0m \u001b[1;31m#print(ind_2005)\u001b[0m\u001b[1;33m\u001b[0m\u001b[1;33m\u001b[0m\u001b[1;33m\u001b[0m\u001b[0m\n\u001b[1;32m----> 5\u001b[1;33m plt.plot(gps_data[station][0][after_2005],gps_data[station][1][after_2005]-gps_data[station][1][ind_2005],\n\u001b[0m\u001b[0;32m      6\u001b[0m          'ko', markersize=2, label=station+' easting')\n\u001b[0;32m      7\u001b[0m \u001b[0mplt\u001b[0m\u001b[1;33m.\u001b[0m\u001b[0mxlim\u001b[0m\u001b[1;33m(\u001b[0m\u001b[1;33m(\u001b[0m\u001b[0mdatetime\u001b[0m\u001b[1;33m(\u001b[0m\u001b[1;36m2011\u001b[0m\u001b[1;33m,\u001b[0m\u001b[1;36m3\u001b[0m\u001b[1;33m,\u001b[0m\u001b[1;36m12\u001b[0m\u001b[1;33m)\u001b[0m\u001b[1;33m,\u001b[0m\u001b[0mdatetime\u001b[0m\u001b[1;33m(\u001b[0m\u001b[1;36m2011\u001b[0m\u001b[1;33m,\u001b[0m\u001b[1;36m12\u001b[0m\u001b[1;33m,\u001b[0m\u001b[1;36m31\u001b[0m\u001b[1;33m)\u001b[0m\u001b[1;33m)\u001b[0m\u001b[1;33m)\u001b[0m\u001b[1;33m\u001b[0m\u001b[1;33m\u001b[0m\u001b[0m\n",
      "\u001b[1;31mValueError\u001b[0m: operands could not be broadcast together with shapes (1917,) (0,) "
     ]
    }
   ],
   "source": [
    "station = 'DOKD'\n",
    "after_2005 = gps_data[station][0] >= datetime(2005, 1, 1)\n",
    "ind_2005 = np.where(gps_data[station][0] == datetime(2005, 1, 1))\n",
    "#print(ind_2005)\n",
    "plt.plot(gps_data[station][0][after_2005],gps_data[station][1][after_2005]-gps_data[station][1][ind_2005],\n",
    "         'ko', markersize=2, label=station+' easting')\n",
    "plt.xlim((datetime(2011,3,12),datetime(2011,12,31)))\n",
    "plt.plot(gps_data[station][0][after_2005],gps_data[station][2][after_2005]-gps_data[station][2][ind_2005],\n",
    "         'ro', markersize=2, label=station+' northing')"
   ]
  },
  {
   "cell_type": "code",
   "execution_count": null,
   "metadata": {},
   "outputs": [],
   "source": []
  }
 ],
 "metadata": {
  "kernelspec": {
   "display_name": "Python 3",
   "language": "python",
   "name": "python3"
  },
  "language_info": {
   "codemirror_mode": {
    "name": "ipython",
    "version": 3
   },
   "file_extension": ".py",
   "mimetype": "text/x-python",
   "name": "python",
   "nbconvert_exporter": "python",
   "pygments_lexer": "ipython3",
   "version": "3.7.4"
  }
 },
 "nbformat": 4,
 "nbformat_minor": 4
}
