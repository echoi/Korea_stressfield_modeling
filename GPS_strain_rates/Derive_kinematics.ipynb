{
 "cells": [
  {
   "cell_type": "code",
   "execution_count": 4,
   "metadata": {},
   "outputs": [],
   "source": [
    "import numpy as np\n",
    "import matplotlib.pyplot as plt\n",
    "import matplotlib.gridspec as gridspec\n",
    "import os\n",
    "from datetime import datetime, timedelta\n",
    "import pickle\n",
    "import cartopy.crs as ccrs\n",
    "import cartopy.feature as cfeature\n",
    "\n",
    "plt.rcParams['legend.fontsize'] = 10\n",
    "plt.rcParams.update({'figure.autolayout': True})"
   ]
  },
  {
   "cell_type": "markdown",
   "metadata": {},
   "source": [
    "## Loading Data\n",
    "If a pickled data object exists, load and use it as an instance of `GPS_Stations` class named `Korea_GPS_Stations`.\n",
    "The loaded pickle file should contain 55 stations.\n"
   ]
  },
  {
   "cell_type": "code",
   "execution_count": 5,
   "metadata": {},
   "outputs": [],
   "source": [
    "class GPS_Stations():\n",
    "    def __init__(self):\n",
    "        self.data = {}\n",
    "    def add(self, station_name, date, x, y, z):\n",
    "        if station_name in self.data:\n",
    "            # if the station is already in the data dictionary, append a new row of data [date,x,y,z]\n",
    "            self.data.update( {station_name : np.append( self.data[station_name], np.array([date,x,y,z]).reshape(1,4), axis=0 ) } )\n",
    "        else: # if first time adding this station, create a key:data pair.\n",
    "            self.data.update( {station_name : np.array([date,x,y,z]).reshape(1,4)} )"
   ]
  },
  {
   "cell_type": "code",
   "execution_count": 8,
   "metadata": {},
   "outputs": [
    {
     "name": "stdout",
     "output_type": "stream",
     "text": [
      "Data object loaded.\n"
     ]
    }
   ],
   "source": [
    "DATA_EXISTS = False\n",
    "try: \n",
    "    Korea_GPS_Stations = pickle.load( open( \"Korea_GPS_Stations_20110401_20161231.p\", \"rb\" ) )\n",
    "    if Korea_GPS_Stations:\n",
    "        DATA_EXISTS = True\n",
    "        print(\"Data object loaded.\")\n",
    "except FileNotFoundError:\n",
    "    print(\"Failed to load the pickled data. Generate data with GPSdata.ipynb.\")"
   ]
  },
  {
   "cell_type": "code",
   "execution_count": 9,
   "metadata": {},
   "outputs": [
    {
     "name": "stdout",
     "output_type": "stream",
     "text": [
      "ELTM coefficients and covariances loaded.\n"
     ]
    }
   ],
   "source": [
    "COEFF_EXISTS = False\n",
    "try: \n",
    "    Korea_GPS_CoeffCov = pickle.load( open( \"Korea_GPS_Stations_coeff_cov_20110401_20161231.p\", \"rb\" ) )\n",
    "    if Korea_GPS_CoeffCov:\n",
    "        COEFF_EXISTS = True\n",
    "        print(\"ELTM coefficients and covariances loaded.\")\n",
    "except FileNotFoundError:\n",
    "    print(\"Failed to load the pickled data. Generate ELTM coefficients using GPSdata.ipynb.\")"
   ]
  },
  {
   "cell_type": "markdown",
   "metadata": {},
   "source": [
    "## Strain rate field by least-square collocation method"
   ]
  },
  {
   "cell_type": "markdown",
   "metadata": {},
   "source": [
    "### Generate a grid of points"
   ]
  },
  {
   "cell_type": "code",
   "execution_count": 24,
   "metadata": {},
   "outputs": [],
   "source": [
    "lons = np.linspace(125.0, 131.0, 51)\n",
    "lats = np.linspace(33.0, 38.5, 51)\n",
    "long, latg = np.meshgrid(lons, lats)"
   ]
  },
  {
   "cell_type": "markdown",
   "metadata": {},
   "source": [
    "### Compute $\\mathbf{M}$ matrix for each point\n",
    "A strain rate tensor ($\\boldsymbol{\\varepsilon}$) at a location is the spatially linear rate of change of velocity at that location. In other words, velocity at a GPS station ($\\mathbf{v}$) can be approximated as the sum of a translation vector, $\\mathbf{t}$, and the product of strain rate and $\\mathbf{X}$, the position vector of the GPS station minus the position vector of a grid point:\n",
    "$ \\mathbf{t} + \\boldsymbol{\\varepsilon} \\mathbf{X} = \\mathbf{v}$.\n",
    "\n",
    "Since we have multiple GPS stations and cannot expect the relationship to hold exactly for all of them, we try to find $\\mathbf{t}$ and $\\boldsymbol{\\varepsilon}$ in the least square sense.\n",
    "$ \\mathbf{t} + \\boldsymbol{\\varepsilon} \\mathbf{X}_{i}^{(i)} = \\mathbf{v}^{(i)}$, where $\\mathbf{X}^{(i)}$ is the position vector of the $i$-th GPS station minus the position vector of a grid point, and $\\mathbf{v}^{(i)}$ is the GPS velocity at the $i$-th station ($i=1,\\ldots,n$).\n",
    "\n",
    "$\n",
    "\\begin{bmatrix}\n",
    "1 & 0 & X_{1}^{(1)} & X_{2}^{(1)} & 0 & 0 \\\\\n",
    "0 & 1 & 0 & 0 & X_{1}^{(1)} & X_{2}^{(1)} \\\\\n",
    "1 & 0 & X_{1}^{(2)} & X_{2}^{(2)} & 0 & 0 \\\\\n",
    "0 & 1 & 0 & 0 & X_{1}^{(2)} & X_{2}^{(2)} \\\\\n",
    "\\vdots & \\vdots & \\vdots & \\vdots & \\vdots & \\vdots \\\\\n",
    "1 & 0 & X_{1}^{(n)} & X_{2}^{(n)} & 0 & 0 \\\\\n",
    "0 & 1 & 0 & 0 & X_{1}^{(n)} & X_{2}^{(n)}\n",
    "\\end{bmatrix}\n",
    "\\begin{bmatrix}\n",
    "t_{1} \\\\\n",
    "t_{2} \\\\\n",
    "\\varepsilon_{11} \\\\\n",
    "\\varepsilon_{12} \\\\\n",
    "\\varepsilon_{21} \\\\\n",
    "\\varepsilon_{22}\n",
    "\\end{bmatrix}\n",
    "=\n",
    "\\begin{bmatrix}\n",
    "^{1}v_{1} \\\\\n",
    "^{1}v_{2} \\\\\n",
    "^{2}v_{1} \\\\\n",
    "^{2}v_{2} \\\\\n",
    "\\vdots \\\\\n",
    "^{n}v_{1} \\\\\n",
    "^{n}v_{2} \\\\\n",
    "\\end{bmatrix}\n",
    "$\n",
    "\n",
    "Putting the above relationship in the form of $\\mathbf{M}\\mathbf{x} = \\mathbf{y}$, we invert it for $\\mathbf{x}$ as follows:\n",
    "\n",
    "$\\mathbf{x} = \\left( \\mathbf{M}^{T}\\mathbf{W}\\mathbf{M} \\right)^{-1} \\mathbf{M}^{T}\\mathbf{W} \\mathbf{y}$, \n",
    "where $\\mathbf{W}$ is a diagonal matrix of weighting factors.\n",
    "Among many possible choices for $\\mathbf{W}$, we choose the Gaussian function of distance:\n",
    "\n",
    "$ W = \\exp \\left( -\\frac{d^{2}}{2\\alpha^{2}} \\right)$\n",
    "We calculate "
   ]
  },
  {
   "cell_type": "code",
   "execution_count": 37,
   "metadata": {},
   "outputs": [
    {
     "name": "stdout",
     "output_type": "stream",
     "text": [
      "[128.462  37.183] [127.374  36.399 126.462  33.288 127.519  34.454 126.381  34.817 128.744\n",
      "  35.491 128.457  36.934 128.565  38.251 126.918  37.494 127.27   37.\n",
      " 127.73   36.488 127.711  37.869 127.155  36.878 126.53   33.514 127.415\n",
      "  38.164 128.478  35.533 129.056  36.436 128.693  35.236 126.801  36.459\n",
      " 127.461  36.627 127.061  37.902 125.968  36.125 127.943  35.668 127.787\n",
      "  36.816 127.709  35.162 129.567  36.078 128.194  37.709 126.686  37.42\n",
      " 128.171  38.069 126.9    34.675 128.05   35.173 126.974  35.623 127.135\n",
      "  35.843 128.868  37.771 128.13   36.13  128.574  36.233 126.91   35.178\n",
      " 126.269  33.117 127.661  36.003 127.396  35.423 127.099  36.186 126.738\n",
      "  37.746 129.07   35.23  126.494  36.776 128.144  36.379 127.486  34.957\n",
      " 127.054  37.276 128.802  35.906 130.798  37.518 127.947  37.337 129.416\n",
      "  35.504 129.413  36.992 127.506  37.454 128.446  36.651 126.516  35.279\n",
      " 128.462  37.183]\n"
     ]
    }
   ],
   "source": [
    "positions = np.vstack([long.ravel(), latg.ravel()])\n",
    "for position in positions:\n",
    "    # compute_M\n",
    "    # invert M for \n",
    "from scipy.spatial import distance_matrix\n",
    "distance_matrix( [[long[0,0],latg[0,0]]], positions )\n",
    "    \n",
    "station_loc_dict = pickle.load( open( \"Korea_GPS_Stations_locations.p\", \"rb\" ) )\n",
    "\n",
    "for station, loc in station_loc_dict.items():\n",
    "    station_loc = np.append(station_loc, [loc])\n",
    "print(loc, station_loc)"
   ]
  },
  {
   "cell_type": "code",
   "execution_count": null,
   "metadata": {},
   "outputs": [],
   "source": []
  }
 ],
 "metadata": {
  "kernelspec": {
   "display_name": "Python 3",
   "language": "python",
   "name": "python3"
  },
  "language_info": {
   "codemirror_mode": {
    "name": "ipython",
    "version": 3
   },
   "file_extension": ".py",
   "mimetype": "text/x-python",
   "name": "python",
   "nbconvert_exporter": "python",
   "pygments_lexer": "ipython3",
   "version": "3.7.9"
  }
 },
 "nbformat": 4,
 "nbformat_minor": 4
}
