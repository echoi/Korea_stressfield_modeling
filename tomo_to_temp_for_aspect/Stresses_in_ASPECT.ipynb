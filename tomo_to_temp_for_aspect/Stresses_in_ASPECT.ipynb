{
 "cells": [
  {
   "cell_type": "markdown",
   "metadata": {},
   "source": [
    "# On stress outputs from ASPECT\n",
    "## Problem setup\n",
    "When a Newtonian fluid subjected to one-dimensional compression and it has a uniformly constant viscosity and density, we can find the analytic solution. The compression is driven by inward velocity boundary conditions of $\\pm$1 cm/yr on the boundaries at $x=0$ and $x=L$. Here $L$ is the length of the domain.\n",
    "The top surface at $z=H$ is a free surface, where $H$ is the domain height, 400 km. All the other boundaries are free-slip surfaces. This problem is essentially two-dimensional but we construct it as a three-dimensional one for comparison with ASPECT."
   ]
  },
  {
   "cell_type": "markdown",
   "metadata": {},
   "source": [
    "## Velocity solution\n",
    "With the given boundary conditions, the velocity field should be\n",
    "\\begin{eqnarray}\n",
    "  &v_{x} &= \\frac{v_{p}(L-2x)}{L}, \\quad 0 \\le x \\le L,\\\\\n",
    "  &v_{y} &= 0, \\\\\n",
    "  &v_{z} &= \\frac{2v_{p}z}{L}, \\quad 0 \\le z \\le H.\n",
    "\\end{eqnarray}\n",
    "The value of $v_{z}$ at $z=H$ is derived from the volume conservation (i.e., incompressibility): $v_{z}^{top}L = 2v_{p}H$.\n"
   ]
  },
  {
   "cell_type": "markdown",
   "metadata": {},
   "source": [
    "## Strain rate and deviatoric stress\n",
    "The only non-zero strain rate components are the following two:\n",
    "\\begin{eqnarray}\n",
    "  &\\varepsilon_{xx} &= -\\frac{2v_{p}}{L}, \\\\\n",
    "  &\\varepsilon_{zz} &= \\frac{2v_{p}}{L}.\n",
    "\\end{eqnarray}\n",
    "The corresponding deviatoric stress components (called \"shear_stress\" in ASPECT) are\n",
    "\\begin{eqnarray}\n",
    "  &\\tau_{xx} &= -2\\eta\\frac{2v_{p}}{L}, \\\\\n",
    "  &\\tau_{zz} &= 2\\eta\\frac{2v_{p}}{L}.\n",
    "\\end{eqnarray}\n",
    "\n",
    "Plugging in $L = 2000$ km, $v_{p} =$ 1 cm/yr $\\approx$ 3.17$\\times$10$^{-8}$ m/s and $\\eta=10^{24}$ Pa$\\cdot$s, we get the values of deviatric stresses as follows:\n",
    "\\begin{eqnarray}\n",
    "  &\\tau_{xx} &\\approx -6.34\\times 10^{8}, \\\\\n",
    "  &\\tau_{zz} &\\approx 6.34\\times 10^{8}.\n",
    "\\end{eqnarray}\n",
    "\n",
    "In terms of **both sign and magnitude**, these deviatoric stresses are close to ASPECT's `shear_stress_xx` and `shear_stress_zz`. From this, we conclude that ASPECT's `shear_stress_??` outputs follow the \"tension positive\" convention as in our analytic solution."
   ]
  },
  {
   "cell_type": "code",
   "execution_count": 1,
   "metadata": {},
   "outputs": [
    {
     "name": "stdout",
     "output_type": "stream",
     "text": [
      "6.341958e+08\n"
     ]
    }
   ],
   "source": [
    "vp = 0.01/3.1536e7\n",
    "L = 2.0e6\n",
    "eta = 1.0e24\n",
    "tau = 4.0*eta*vp/L\n",
    "print(\"{0:e}\".format(tau))"
   ]
  },
  {
   "cell_type": "markdown",
   "metadata": {},
   "source": [
    "## Pressure\n",
    "Now, in order to calculate pressure, we need to consider the full momentum balance equation:\n",
    "    \\begin{eqnarray}\n",
    "     & \\frac{\\partial p}{\\partial x} - 2\\eta \\left[ \\frac{\\partial \\varepsilon_{xx}}{\\partial x} + \\frac{\\partial \\varepsilon_{xy}}{\\partial y} + \\frac{\\partial \\varepsilon_{xz}}{\\partial z} \\right] &= 0, \\\\\n",
    "     & \\frac{\\partial p}{\\partial y} - 2\\eta \\left[ \\frac{\\partial \\varepsilon_{yx}}{\\partial x} + \\frac{\\partial \\varepsilon_{yy}}{\\partial y} + \\frac{\\partial \\varepsilon_{yz}}{\\partial z} \\right] &= 0, \\\\\n",
    "     & \\frac{\\partial p}{\\partial z} - 2\\eta \\left[ \\frac{\\partial \\varepsilon_{zx}}{\\partial x} + \\frac{\\partial \\varepsilon_{zy}}{\\partial y} + \\frac{\\partial \\varepsilon_{zz}}{\\partial z} \\right] &= -\\rho g,\n",
    "    \\end{eqnarray}\n",
    "where the minus sign for the body force term means that graviational acceleration has the negative $z$ direction.\n",
    "\n",
    "The above set of equations are derived from ASPECT User Manual's equation (1) when viscosity and density are uniformly constant and the material is incompressible (i.e., $\\nabla \\cdot \\mathbf{u}=0$).\n",
    "Also note that the oppposite sign of pressure and velocity term implies that pressure follows the \"compression positive\" convention. These different sign conventions for deviatoric stress and pressure are consistent with the decomposition of the Cauchy stress ($\\boldsymbol{\\sigma}$) in the classical fluid/continuum mechanics: \\begin{equation}\n",
    "  \\boldsymbol{\\sigma} = -p \\mathbf{I} + \\boldsymbol{\\tau}.\n",
    "\\end{equation}\n",
    "So is our derivation of the solution.\n",
    "\n",
    "Since even the only non-zero strain rate components are constant in space, all the partial derivatives of strain rate are zero in the above equations. Also, we note from the first two equations that pressure should be independent of $x$ and $y$ coordinates. The third equation gives\n",
    "\\begin{equation}\n",
    "  p = -\\rho\\,g\\,z + p_{0},\n",
    "\\end{equation}\n",
    "where $p_{0}$ is a integration constant to be determined by an appropriate boundary condition like the top boundary being a free (i.e., traction-free) surface."
   ]
  },
  {
   "cell_type": "markdown",
   "metadata": {},
   "source": [
    "### $p=0$ on the top surface\n",
    "Let's assume that if the top surface at $z = H$ is a free surface, pressure should be zero there. An alternative condition would be that $\\boldsymbol{\\sigma}\\cdot\\mathbf{n}=0$ at $z = H$. \n",
    "If pressure should be zero to have a free top surface, we get\n",
    "\\begin{equation}\n",
    "  p = \\rho\\,g\\,(H-z).\n",
    "\\end{equation}\n",
    "Plugging in $\\rho = 3300$ kg/m$^{3}$ and $g = 9.8$ m/s$^{2}$ above, we get\n",
    "- $p=0$ at top ($z=H$)\n",
    "- $p \\approx 1.29\\times10^{10}$ Pa at bottom ($z=0$).\n"
   ]
  },
  {
   "cell_type": "code",
   "execution_count": 6,
   "metadata": {},
   "outputs": [
    {
     "name": "stdout",
     "output_type": "stream",
     "text": [
      "p0_1:1.293600e+10\n"
     ]
    }
   ],
   "source": [
    "rho = 3300.0; g = 9.8; H = 4e5\n",
    "p0_1 = rho*g*H\n",
    "print(\"p0_1:{0:e}\".format(p0_1))"
   ]
  },
  {
   "cell_type": "markdown",
   "metadata": {},
   "source": [
    "### $\\boldsymbol{\\sigma}\\cdot\\mathbf{n}=0$ on the top surface\n",
    "For this condition, we require $\\sigma_{zz}(z=H) = -p + \\tau_{zz} = \\rho\\,g\\,H - p_{0} + \\tau_{zz} = 0$. From this, $p_{0} = \\rho g H + \\tau_{zz}$. \n",
    "\\begin{equation}\n",
    "  p = \\rho g (H-z) + \\tau_{zz}.\n",
    "\\end{equation}\n",
    "- $p = \\tau_{zz} \\approx 6.34 \\times 10^{8}$ at top ($z=H$)\n",
    "- $p \\approx 1.36\\times10^{10}$ Pa at bottom ($z=0$).\n"
   ]
  },
  {
   "cell_type": "code",
   "execution_count": 7,
   "metadata": {},
   "outputs": [
    {
     "name": "stdout",
     "output_type": "stream",
     "text": [
      "p0_2:1.357020e+10, pH_2:6.341958e+08\n"
     ]
    }
   ],
   "source": [
    "p0_2 = rho*g*H + tau\n",
    "pH_2 = tau\n",
    "print(\"p0_2:{0:e}, pH_2:{1:e}\".format(p0_2, pH_2))"
   ]
  },
  {
   "cell_type": "markdown",
   "metadata": {},
   "source": [
    "### $\\sigma_{xx}=0$ on the top surface\n",
    "For this condition, we require $\\sigma_{xx}(z=H) = -p + \\tau_{xx} = \\rho\\,g\\,H - p_{0} + \\tau_{xx} = 0$. From this, $p_{0} = \\rho g H + \\tau_{xx}$. \n",
    "\\begin{equation}\n",
    "  p = \\rho g (H-z) + \\tau_{xx}.\n",
    "\\end{equation}\n",
    "- $p = \\tau_{xx} \\approx -6.34 \\times 10^{8}$ at top ($z=H$)\n",
    "- $p \\approx 1.23\\times10^{10}$ Pa at bottom ($z=0$).\n"
   ]
  },
  {
   "cell_type": "code",
   "execution_count": 8,
   "metadata": {},
   "outputs": [
    {
     "name": "stdout",
     "output_type": "stream",
     "text": [
      "p0_3:1.230180e+10\n"
     ]
    }
   ],
   "source": [
    "p0_3 = rho*g*H - tau\n",
    "print(\"p0_3:{0:e}\".format(p0_3))"
   ]
  },
  {
   "cell_type": "markdown",
   "metadata": {},
   "source": [
    "## Cauchy stress \n",
    "Now we want to know the Cauchy stress $\\mathbf{\\sigma}$, which is decomposed into pressure and deviatoric part as follows:\n",
    "\\begin{equation}\n",
    "  \\boldsymbol{\\sigma} = -p \\mathbf{I} + \\boldsymbol{\\tau}.\n",
    "\\end{equation}\n"
   ]
  },
  {
   "cell_type": "markdown",
   "metadata": {},
   "source": [
    "### $p=0$ on the top surface\n",
    "At $z=0$,\n",
    "\\begin{eqnarray}\n",
    "  &\\sigma_{xx} &= -p + \\tau_{xx} = -1.29 \\times 10^{10} - 6.34 \\times 10^{8} &= -1.35 \\times 10^{10}, \\\\\n",
    "  &\\sigma_{yy} &= -p + \\tau_{yy} = -1.29 \\times 10^{10} + 0 &= -1.29 \\times 10^{10}, \\\\\n",
    "  &\\sigma_{zz} &= -p + \\tau_{zz} = -1.29 \\times 10^{10} + 6.34 \\times 10^{8} &= -1.23 \\times 10^{10}, \\\\\n",
    "  &\\sigma_{ij} &= \\tau_{ij} \\quad \\text{ if } i \\neq j.\n",
    "\\end{eqnarray}\n",
    "\n",
    "At $z=H$,\n",
    "\\begin{eqnarray}\n",
    "  &\\sigma_{xx} &= -p + \\tau_{xx} = 0 - 6.34 \\times 10^{8} &= -6.34 \\times 10^{8}, \\\\\n",
    "  &\\sigma_{yy} &= -p + \\tau_{yy} = 0 + 0 &= 0, \\\\\n",
    "  &\\sigma_{zz} &= -p + \\tau_{zz} = 0 + 6.34 \\times 10^{8} &= 6.34 \\times 10^{8}.\n",
    "\\end{eqnarray}\n"
   ]
  },
  {
   "cell_type": "markdown",
   "metadata": {},
   "source": [
    "### $\\boldsymbol{\\sigma}\\cdot\\mathbf{n}=0$ on the top surface\n",
    "At the bottom ($z=0$),\n",
    "\\begin{eqnarray}\n",
    "  &\\sigma_{xx} &= -p + \\tau_{xx} = -1.36 \\times 10^{10} - 6.34 \\times 10^{8} &= -1.42 \\times 10^{10}, \\\\\n",
    "  &\\sigma_{yy} &= -p + \\tau_{yy} = -1.36 \\times 10^{10} + 0 &= -1.35 \\times 10^{10}, \\\\\n",
    "  &\\sigma_{zz} &= -p + \\tau_{zz} = -1.36 \\times 10^{10} + 6.34 \\times 10^{8} &= -1.29 \\times 10^{10}.\n",
    "\\end{eqnarray}\n",
    "\n",
    "At the top surface ($z=H$),\n",
    "\\begin{eqnarray}\n",
    "  &\\sigma_{xx} &= -p + \\tau_{xx} = - 6.34 \\times 10^{8} - 6.34 \\times 10^{8} &= -1.27 \\times 10^{9}, \\\\\n",
    "  &\\sigma_{yy} &= -p + \\tau_{yy} = - 6.34 \\times 10^{8} + 0 &= -6.34 \\times 10^{8}, \\\\\n",
    "  &\\sigma_{zz} &= -p + \\tau_{zz} = - 6.34 \\times 10^{8} + 6.34 \\times 10^{8} &= 0.\n",
    "\\end{eqnarray}\n",
    "\n"
   ]
  },
  {
   "cell_type": "markdown",
   "metadata": {},
   "source": [
    "### $\\sigma_{xx}=0$ on the top surface\n",
    "At the bottom ($z=0$),\n",
    "\\begin{eqnarray}\n",
    "  &\\sigma_{xx} &= -p + \\tau_{xx} = -1.23 \\times 10^{10} - 6.34 \\times 10^{8} &= -1.29 \\times 10^{10}, \\\\\n",
    "  &\\sigma_{yy} &= -p + \\tau_{yy} = -1.23 \\times 10^{10} + 0 &= -1.23 \\times 10^{10}, \\\\\n",
    "  &\\sigma_{zz} &= -p + \\tau_{zz} = -1.23 \\times 10^{10} + 6.34 \\times 10^{8} &= -1.17 \\times 10^{10}.\n",
    "\\end{eqnarray}\n",
    "\n",
    "At the top surface ($z=H$),\n",
    "\\begin{eqnarray}\n",
    "  &\\sigma_{xx} &= -p + \\tau_{xx} =  6.34 \\times 10^{8} - 6.34 \\times 10^{8} &= 0, \\\\\n",
    "  &\\sigma_{yy} &= -p + \\tau_{yy} =  6.34 \\times 10^{8} + 0 &= 6.34 \\times 10^{8}, \\\\\n",
    "  &\\sigma_{zz} &= -p + \\tau_{zz} =  6.34 \\times 10^{8} + 6.34 \\times 10^{8} &= 1.27 \\times 10^{9}.\n",
    "\\end{eqnarray}"
   ]
  },
  {
   "cell_type": "markdown",
   "metadata": {},
   "source": [
    "## Summary\n",
    "| Stress components | $p=0$ at top &nbsp;&nbsp;&nbsp;&nbsp;&nbsp;&nbsp;&nbsp;&nbsp;&nbsp;&nbsp;&nbsp;&nbsp;| $\\sigma_{zz}=0$ at top &nbsp;&nbsp;&nbsp;&nbsp;&nbsp;&nbsp;&nbsp;&nbsp;&nbsp;&nbsp;&nbsp;&nbsp;| $\\sigma_{xx}=0$ at top &nbsp;&nbsp;&nbsp;&nbsp;&nbsp;&nbsp;&nbsp;&nbsp;&nbsp;&nbsp;&nbsp;&nbsp;| ASPECT &nbsp;&nbsp;&nbsp;&nbsp;&nbsp;&nbsp;  |\n",
    "|:----------- |-------------:|-----------------------:|-----------------------:|--------:|\n",
    "| $\\tau_{xx}$        | $-6.34\\times10^{8}$ &nbsp; | $-6.34 \\times 10^{8}$  | $-6.34 \\times 10^{8}$ | $-6.34 \\times 10^{8}$ |\n",
    "| $\\tau_{zz}$        | $6.34 \\times 10^{8}$   | $6.34 \\times 10^{8}$   | $6.34 \\times 10^{8}$  | $6.34 \\times 10^{8}$  |\n",
    "| $p(z=0)$           | $1.29 \\times 10^{10}$  | $1.36 \\times 10^{10}$  | $1.23 \\times 10^{10}$   | $1.36 \\times 10^{10}$ |\n",
    "| $p(z=H)$           | $0.0$                  | $6.34 \\times 10^{8}$   | $-6.34 \\times 10^{8}$  | $6.34 \\times 10^{8}$  |\n",
    "| $\\sigma_{xx}(z=0)$ | $-1.35 \\times 10^{10}$ | $-1.42 \\times 10^{10}$ | $-1.29 \\times 10^{10}$  | $1.29 \\times 10^{10}$ |\n",
    "| $\\sigma_{xx}(z=H)$ | $-6.34 \\times 10^{8}$  | $-1.27 \\times 10^{9}$  |  $0$ | $0$            |\n",
    "| $\\sigma_{zz}(z=0)$ | $-1.23 \\times 10^{10}$ | $-1.29 \\times 10^{10}$ | $-1.17 \\times 10^{10}$ | $1.42 \\times 10^{10}$ |\n",
    "| $\\sigma_{zz}(z=H)$ | $6.34 \\times 10^{8}$   | $0$                | $-1.27 \\times 10^{9}$ | $1.27 \\times 10^{9}$ |\n"
   ]
  },
  {
   "cell_type": "markdown",
   "metadata": {},
   "source": [
    "The good news is that ASPECT's deviatoric stress values are the same with the expected values.\n",
    "\n",
    "Pressure values from ASPECT are identical to our calculation for $\\sigma_{zz}=0$, which is a reasonable assumption for the traction-free condition for the top surface.\n",
    "\n",
    "However, ASPECT's full Cauchy stress values are different from any cases we've considered.\n",
    "ASPECT's Cauchy stress values are retrieved as $p+\\tau_{xx}$ and $p+\\tau_{zz}$; or in general as $p\\mathbf{I}+\\boldsymbol{\\tau}$. \n",
    "\n",
    "This way of constructing Cauchy stress seems plain wrong. It's not a matter of tension positive or compression positive: $p\\mathbf{I}+\\boldsymbol{\\tau}$ is wrong either way. In the light of the opposite signs of pressure and deviatoric stresses in the governing equation, Cauchy stress should be $-p\\mathbf{I}+\\boldsymbol{\\tau}$ (tension positive) or $p\\mathbf{I}-\\boldsymbol{\\tau}$ (compression positive).\n"
   ]
  }
 ],
 "metadata": {
  "kernelspec": {
   "display_name": "Python 3",
   "language": "python",
   "name": "python3"
  },
  "language_info": {
   "codemirror_mode": {
    "name": "ipython",
    "version": 3
   },
   "file_extension": ".py",
   "mimetype": "text/x-python",
   "name": "python",
   "nbconvert_exporter": "python",
   "pygments_lexer": "ipython3",
   "version": "3.6.8"
  }
 },
 "nbformat": 4,
 "nbformat_minor": 2
}
