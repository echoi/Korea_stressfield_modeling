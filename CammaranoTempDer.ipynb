{
 "cells": [
  {
   "cell_type": "markdown",
   "metadata": {},
   "source": [
    "# Preparations"
   ]
  },
  {
   "cell_type": "markdown",
   "metadata": {},
   "source": [
    "## Numpy and plotting library"
   ]
  },
  {
   "cell_type": "code",
   "execution_count": null,
   "metadata": {},
   "outputs": [],
   "source": [
    "import numpy as np\n",
    "from math import tan, pi\n",
    "from scipy.interpolate import griddata\n",
    "import matplotlib.pyplot as plt\n",
    "from matplotlib import cm "
   ]
  },
  {
   "cell_type": "markdown",
   "metadata": {},
   "source": [
    "## Data loading"
   ]
  },
  {
   "cell_type": "markdown",
   "metadata": {},
   "source": [
    "### Tomography data and associated arrays"
   ]
  },
  {
   "cell_type": "code",
   "execution_count": null,
   "metadata": {},
   "outputs": [],
   "source": [
    "# load tomography and iasp model\n",
    "data_korean = np.loadtxt(\"Koreavel.xyz\", skiprows=1)\n",
    "\n",
    "# Create a mask array for filtering out data for < 40 km depth\n",
    "depths = data_korean[:,2]\n",
    "d = depths >= 40.0\n",
    "\n",
    "# arrays for dVp, dVs and Vs.\n",
    "dVp = data_korean[d,3] - data_korean[d,4] # delta Vp \n",
    "dVs = data_korean[d,5] - data_korean[d,6] # delta Vs\n",
    "S_data = data_korean[d,6]\n",
    "\n",
    "# Coordinate arrays for later purposes\n",
    "longitude = data_korean[d,0]\n",
    "latitude = data_korean[d,1]\n",
    "depth    = data_korean[d,2]\n",
    "\n",
    "# Saturate \"spike\" values of dVs with 0.201 km/s \n",
    "# to prevent conversion to unreasonably low or high temperature.\n",
    "dVs[ np.abs(dVs) > 0.201 ] = 0.201\n",
    "\"\"\"\n",
    "for i in range(len(depth)):\n",
    "    if (S_data_anonmal[i] > 0.201) :\n",
    "        S_data_anonmal[i] =0.201\n",
    "    elif (S_data_anonmal[i] < -0.201) :\n",
    "        S_data_anonmal[i] =-0.201    \n",
    "\"\"\"\n",
    "# Checking minmax of dVs\n",
    "print(max(dVs), min(dVs))\n",
    "# Checking the sizes of the coordinate array\n",
    "print (len(np.unique(depth)), len(np.unique(latitude)), len(np.unique(longitude)))"
   ]
  },
  {
   "cell_type": "markdown",
   "metadata": {},
   "source": [
    "### Reference geotherm and adiabat \n",
    "**[EC]** What is the assumed composition for the Burnman calculation? Ol:Opx:Gt = 0.82:0.144:0.036 below?"
   ]
  },
  {
   "cell_type": "code",
   "execution_count": null,
   "metadata": {},
   "outputs": [],
   "source": [
    "# Load adiabat computed from Burnman\n",
    "adiabat = np.loadtxt('adiabat_pt.txt')\n",
    "\n",
    "# Load the reference geotherm (IASP?)\n",
    "T_ref = np.loadtxt('reference_temp_c.txt', skiprows=1)"
   ]
  },
  {
   "cell_type": "markdown",
   "metadata": {},
   "source": [
    "### Reference elastic and anelastic properties of minerals"
   ]
  },
  {
   "cell_type": "code",
   "execution_count": null,
   "metadata": {},
   "outputs": [],
   "source": [
    "## From Table A.1 in (Cammarano et al., PEPI, 2003)\n",
    "data = np.array([('ol', 0.82, 4.2, 1.4, -0.017e9, -0.014e9, 129e9, 81e9, 3222, 0.201e-4, 0.139e-7, 0.1627e-2, \n",
    "                   1.658e2, 0.2332e-2, -0.3971e7) , \n",
    "                 ('opx', 0.144, 7, 1.6, -0.027e9, -0.012e9, 109e9, 75e9, 3215, 0.3871e-4, 0.0446e-7, 0.03435e-2, \n",
    "                   1.855e2, 0.233e-2, -0.6326e7) , \n",
    "                 ('gt', 0.036, 4.4, 1.4, -0.019e9, -0.01e9, 171e9, 92e9, 3565, 0.0991e-4, 0.1165e-7, 1.0624e-2, \n",
    "                  1.44e2, 0.188e-2, -0.135e7)], \n",
    "        dtype=[('name', 'U10'), ('conc', 'f4'), ('KPDer', 'f4'), ('MuPDer', 'f4'), \n",
    "        ('KTDer', 'f4'), ('MuTDer', 'f4'), ('K', 'f4'), ('Mu', 'f4'), ('rho', 'f4'), \n",
    "        ('a0', 'f4'), ('a1', 'f4'), ('a2', 'f4'), ('cp0', 'f4'), ('cp1', 'f4'), ('cp2', 'f4')])\n",
    "\n",
    "## Anelasticity Parameter \n",
    "## There is original reference in Goes and Govers, 2000, Shallow mantle temperatures under Europe from P and S\n",
    "## wave tomography, JGR, 97\n",
    "A = 1.48e-1 ; H = 500e3; V = 20e-6; a = 0.15 ; d=1e-3\n",
    "R = 8.314\n",
    "grad_crust = -0.17; ## Yan et al., 2016, Stress development in heterogenetic lithosphere. Techtonophysics, 671, pp 56-62.\n",
    "grad_crust2 = -0.25; ## Yan et al., 2016, Stress development in heterogenetic lithosphere. Techtonophysics, 671, pp 56-62."
   ]
  },
  {
   "cell_type": "markdown",
   "metadata": {},
   "source": [
    "# Procedure\n",
    "\n",
    "We closely follow the method described in Appendix A in [Cammarano et al., PEPI, 2003] for computing density, elastic moduli and their partial derivatives with respect to temperature and pressure.\n",
    "\n",
    "Their main workflow is\n",
    "1. Set a target $(P,T)$ where the reference mineral properties are extrapolated to.\n",
    "2. Compute an adiabat that goes through $(P,T)$ and acquire a surface potential temperature $T_{pot}$.\n",
    "3. Extrapolate properties from the reference temperature ($T_{0}$, room temp?) to $T_{pot}$.\n",
    "4. Extrapolate properties at $T_{pot}$ from the reference pressure ($P_{0}$, atmospheric pressure?) to $P$ **along** the adiabat. Note that, since the adiabat is followed, temperature at the end would correspond to the target value $T$, not $T_{pot}$.\n",
    "\n",
    "Saxena et al. (in prep) simplies the workflow skipping the steps 1 and 2. **The rationale is [TBA].**\n",
    "\n"
   ]
  },
  {
   "cell_type": "markdown",
   "metadata": {},
   "source": [
    "## Density extrapolation \n",
    "### From ($T_{0}$, $P_{0}$) to ($T_{pot}$, $P_{0}$)\n",
    "Follwoing eq. (6) in (Duffy and Anderson, JGR, 1989) and the 2nd eq. in Appendix A of (Cammarano et al., PEPI, 2003), we assume that for a fixed pressure $P_{0}$, density at temperature $T_{pot}$ is extrapolated from a reference value at $T_{0}$ as follows **[EC: Physical or mathematical origin of this particular form unknown yet]**:\n",
    "\\begin{equation}\n",
    "\\rho(T_{pot}, P_0) = \\rho(T_{0}, P_0)\\exp\\left( -\\int_{T_0}^{T_{pot}} \\alpha(T^{\\prime})\\ dT^{\\prime} \\right), \\qquad \\text{(eq.1)}\n",
    "\\end{equation}\n",
    "where $\\alpha$ is thermal expansion coefficient. \n",
    "\n",
    "We adopt the following polynomial form of $\\alpha$ [Saxena and Shen, 1992, JGR, 97, pp 19813-19825]: \n",
    "\\begin{equation}\n",
    "  \\alpha(T)=\\alpha_0 + \\alpha_1 T + \\alpha_2 T^{-1} + \\alpha_3 T^{-2} + \\ldots.\n",
    "\\end{equation}\n",
    "\n",
    "Plugging the polynomial form into eq. 1, we get\n",
    "<!--\\begin{equation}\n",
    "\\rho(T, P_0) = \\rho(T_0, P_0) \\exp \\left(-(\\alpha_0(T-T_0) + \\frac{1}{2}\\alpha_1(T-T_0)^2 + \\alpha_2ln(T-T_0) + ...) \\right). \\qquad \\text{(eq.2)}\n",
    "\\end{equation}-->\n",
    "\\begin{equation}\n",
    "\\begin{split}\n",
    "&\\rho(T_{pot}, P_0) = \\\\\n",
    "&\\rho(T_0, P_0) \\exp \\left(-\\left[\\alpha_{0}\\,(T_{pot}-T_0) + \\frac{1}{2}\\alpha_{1}\\,(T_{pot}^{2}-T_{0}^{2}) + \\alpha_2\\,(\\ln(T_{pot})-\\ln(T_{0})) + \\ldots \\right] \\right). \\qquad \\text{(eq.2)}\n",
    "\\end{split}\n",
    "\\end{equation}\n",
    "\n",
    "<!--**[LSH]**: I think the original eq.2 is correct because second term disappear due to (T-T0)^2-(T0-T0)^2 **-->\n",
    "\n",
    "<!---### Notes from the code block for density function:\n",
    "- We should check what T0 means (atmophere temperature or surface temperautre)\n",
    "- In equation 1, T0 means 293 K (i.e. atmospheric temperature) \n",
    "- Equation 1 means that density changes in temperature using polynomoal thermal expansion with depth--->"
   ]
  },
  {
   "cell_type": "code",
   "execution_count": null,
   "metadata": {},
   "outputs": [],
   "source": [
    "def density(a0, a1, a2, rho0, Tpot, T0 = 300.0):\n",
    "    \"\"\" \n",
    "    rho0: Reference density, rho(T0, p0)\n",
    "    T0: Reference temperature set to 300.0 K by default \n",
    "        but a different value can be given\n",
    "    For other parameters, refer to eq.2 derived above.\n",
    "    \"\"\"\n",
    "    alpha_integ = a0*(T - T0) + 0.5*a1*(Tpot**2 - T0**2) + a2*(np.log(Tpot) - np.log(T0))\n",
    "    rho_extrap = rho0 * np.exp(-alpha_integ)\n",
    "    return rho_extrp\n",
    "\"\"\"\n",
    "def density(a0, a1, a2, rho0, T):\n",
    "    T0 = 300.  # surface temperature and T should be potential temperature (1600 K)\n",
    "    return (rho0 * np.exp (-a0 * (T - T0) - ( a1*(T - T0)**2 )/2 - a2*np.log (T - T0))) \n",
    "\"\"\""
   ]
  },
  {
   "cell_type": "markdown",
   "metadata": {},
   "source": [
    "### From ($T_{pot},P_{0}$) to ($T,P$)\n",
    "We solve for $\\rho(T,P)$ the following equation (see Appendix A in Cammarano et al., PEPI, 2003) relating the Eulerian strain ($\\varepsilon$) and density:\n",
    "\\begin{equation}\n",
    "  \\varepsilon = \\frac{1}{2} \\left[ 1- \\left( \\frac{\\rho(T,P)}{\\rho(T_{pot},P_{0})} \\right)^{2/3} \\right]. \\qquad \\text{(eq.3)}.\n",
    "\\end{equation}\n",
    "Also from Appendix A in (Cammarano et al., PEPI, 2003), $\\varepsilon$ is related to the target pressure $P$ via\n",
    "\\begin{equation}\n",
    "  P = -(1 - 2\\varepsilon)^{5/2}\\, \\left( 3K\\varepsilon + \\frac{1}{2}\\,9K(4-K')\\,\\varepsilon^2 + \\ldots \\right), \\qquad \\text{(eq.4)}\n",
    "\\end{equation}\n",
    "where $K$ and $K'$ are bulk modulus and its pressure derivative.\n",
    "\n",
    "We define a function, $f(\\varepsilon)$ with a truncated version of eq.(4) and the target pressure $P$; and apply the Newton-Raphson method to find a zero root as the desired value of $\\varepsilon$:\n",
    "\\begin{equation}\n",
    "  f(\\varepsilon) = P + (1 - 2\\varepsilon)^{5/2}\\, \\left( 3K\\varepsilon + \\frac{1}{2}\\,9K(4-K')\\,\\varepsilon^2 \\right). \\qquad \\text{(eq.5)}\n",
    "\\end{equation}\n",
    "The found value of $\\varepsilon$ is used in eq.(3) to get $\\rho(T,P)$ as\n",
    "\\begin{equation}\n",
    "  \\rho(T, P)=(1-2\\varepsilon)^{3/2}\\,\\rho(T_{pot}, P_0) \\qquad \\text{(eq.6)}\n",
    "\\end{equation}"
   ]
  },
  {
   "cell_type": "code",
   "execution_count": null,
   "metadata": {},
   "outputs": [],
   "source": [
    "def derivative0(f, x, h, P, K, Kprime):\n",
    "    \"\"\" \n",
    "    Computes df/dx using the central difference scheme.\n",
    "    f: a function to be differentiated\n",
    "    x: independent variable for f(x)\n",
    "    h: small internal in x\n",
    "    \"\"\"\n",
    "    return (f(x+h, P, K, Kprime) - f(x-h, P, K, Kprime)) / (2.0*h) # might want to return a small non-zero if ==0\n",
    "\n",
    "def fepsilon(x, P, K, Kprime):\n",
    "    \"\"\" Implementation of eq. 5 defined above.\"\"\"\n",
    "    return P + (1.0-2.0*x)**(2.5) * ( 3.0*K*x + 4.5*K*(4.0-Kprime)*(x**(2.0)) )\n",
    "\n",
    "def solve_ep(f, x0, h, P, K, Kprime):\n",
    "    lastX = x0\n",
    "    error = np.abs(10.0*h)  # \"different than lastX so loop starts OK\n",
    "    while (errorr > h):  # this is how you terminate the loop - note use of abs()\n",
    "        fval  = fepsilon(lastX, P, K, Kprime) # just for debug... see what happens\n",
    "        dfdx  = derivative0(fepsilon, lastX, h, P, K, Kprime)\n",
    "        nextX = lastX - fval / dfdx  # update estimate using N-R\n",
    "        error = np.abs(nextX - lastX)\n",
    "        lastX = nextX\n",
    "    return nextX\n",
    "\"\"\"\n",
    "def solve_ep (f, x0, h, P, K, Kprime):\n",
    "    lastX = x0\n",
    "    nextX = lastX + 10 * h  # \"different than lastX so loop starts OK\n",
    "    while (np.abs(lastX - nextX) > h):  # this is how you terminate the loop - note use of abs()\n",
    "        newY  = epsilon(nextX,  P, K, Kprime)                     # just for debug... see what happens\n",
    "        lastX = nextX\n",
    "        nextX = lastX - newY / derivative0(f, lastX, h, P, K, Kprime)  # update estimate using N-R\n",
    "    return nextX\n",
    "\"\"\""
   ]
  },
  {
   "cell_type": "markdown",
   "metadata": {},
   "source": [
    "## Simplified density extrapolation\n",
    "Saxena et al. (in prep) choose to assume a single representative potential temperature, 1600 K, rather than computing $T_{pot}$ for each $(T,P)$ in the reference geotherm. This approach is justified above."
   ]
  },
  {
   "cell_type": "code",
   "execution_count": null,
   "metadata": {},
   "outputs": [],
   "source": [
    "x0 = 1.e-8\n",
    "pressures = adiabat[:,0]\n",
    "depth_a =  adiabat[:,1] / 1e3 # tomography is in m, easier for comparison\n",
    "#T_a = adiabat[:,2]\n",
    "T_r = T_ref[:,1] # reference temp with depth\n",
    "strain = np.ones(len(pressures))\n",
    "rho = np.ones(len(pressures))\n",
    "\n",
    "# Mineral concentration-weighted average elastic properties\n",
    "# for the assumed rock composition.\n",
    "rho_avg = np.dot( data['rho'], data['conc']) # rho_i * c_i\n",
    "K_avg = np.dot( data['K'], data['conc'])     # K_i * c_i etc.\n",
    "Muavg = np.dot( data['Mu'], data['conc'])\n",
    "KPDer_avg = np.dot( data['KPDer'], data['conc'])\n",
    "print(K_avg, Muavg, KPDer_avg)\n",
    "#rho_avg = data['rho'][0] * data['conc'][0] + data['rho'][1] * data['conc'][1] + \\\n",
    "#            data['conc'][2] * data['rho'][2]\n",
    "#K_avg = ( data['conc'][0] * data['K'][0] + data['conc'][1] * data['K'][1] + data['conc'][2]*data['K'][2])\n",
    "#Muavg = ( data['conc'][0] * data['Mu'][0] + data['conc'][1] * data['Mu'][1] + data['conc'][2]*data['Mu'][2])\n",
    "#KPDer_avg = ( data['conc'][0] * data['KPDer'][0] + data['conc'][1] * data['KPDer'][1] + \\\n",
    "#          data['conc'][2]*data['KPDer'][2])\n",
    "\n",
    "def call_density( data, Tpot ):\n",
    "    num_minerals = len(data['conc'])\n",
    "    densities = np.zeros( num_minerals )\n",
    "    for i in range(num_minerals):\n",
    "        a0 = data['a0'][i]\n",
    "        a1 = data['a1'][i]\n",
    "        a2 = data['a2'][i]\n",
    "        rho0 = data['rho'][i]\n",
    "        densities[i] = density( a0, a1, a2, rho0, Tpot )\n",
    "    return densities        \n",
    "\n",
    "for i in range (len(pressures)):\n",
    "    # Compute strain\n",
    "    strain[i] = solve_ep (epsilon, x0, 1.e-15, pressures[i], K_avg, KPDer_avg)\n",
    "    # Compute densities for mineral components\n",
    "    densities = call_density( data, 1600.0 )\n",
    "    rho_pot = np.dot( data['conc'], densities ) # c_i * rho_i\n",
    "    # eq.(6) in this document.\n",
    "    rho[i] = rho_pot * ( (1.0 - 2.0*strain[i])**1.5 )\n",
    "    #rho[i] = (( data['conc'][0] *  density ( data['a0'][0], data['a1'][0], data['a2'][0], data['rho'][0], 1600) ) \n",
    "    #+ ( data['conc'][1] *  density ( data['a0'][1], data['a1'][1], data['a2'][1], data['rho'][1], 1600) )\n",
    "    #+ ( data['conc'][2] *  density ( data['a0'][2], data['a1'][2], data['a2'][2], data['rho'][2], 1600) ) ) \\\n",
    "    #* ( ( 1 - ( 2 * strain[i] ) ) ** (3/2) )\n",
    "    \n",
    "    print (depth_a[i], T_r[i], strain[i], rho[i])"
   ]
  },
  {
   "cell_type": "markdown",
   "metadata": {},
   "source": [
    "<!--$$ \\partial M = \\left(\\left(\\frac{\\partial K}{\\partial T}\\right )_P+4/3\\left(\\frac{\\partial G}{\\partial T}\\right )_P \\right)(T-T_0) \\dots (eq.6) $$-->\n",
    "\\begin{equation}\n",
    "\\partial M = \\left(\\left(\\frac{\\partial K}{\\partial T}\\right )_P+4/3\\left(\\frac{\\partial G}{\\partial T}\\right )_P \\right)\\partial T \\approx  \\left(\\left(\\frac{\\partial K}{\\partial T}\\right )_P+4/3\\left(\\frac{\\partial G}{\\partial T}\\right )_P \\right)\\Delta T \\qquad \\text{(eq.5)}\n",
    "\\end{equation}"
   ]
  },
  {
   "cell_type": "markdown",
   "metadata": {},
   "source": [
    "<!--$$ \\partial G = \\left(\\frac{\\partial G}{\\partial T}\\right )_P(T-T_0) \\dots (eq.8)$$-->\n",
    "\\begin{equation}\n",
    "\\partial G = \\left(\\frac{\\partial G}{\\partial T}\\right )_P\\partial T \\approx \\left(\\frac{\\partial G}{\\partial T}\\right )_P\\Delta T \\qquad \\text{(eq.6)}\n",
    "\\end{equation}"
   ]
  },
  {
   "cell_type": "markdown",
   "metadata": {},
   "source": [
    "\\begin{equation}\n",
    "\\partial M'(T) = \\left(\\left(\\frac{\\partial K}{\\partial P}\\right )_T+4/3\\left(\\frac{\\partial G}{\\partial P}\\right )_T \\right)\\exp(\\int\\limits_{T_0}^T \\alpha(T')\\ dT')\\alpha(T')\\partial T \\approx \\qquad \\left(\\left(\\frac{\\partial K}{\\partial P}\\right )_T+4/3\\left(\\frac{\\partial G}{\\partial P}\\right )_T \\right)\\exp(\\int\\limits_{T_0}^T \\alpha(T')\\ dT')\\alpha(T')\\Delta T \\qquad \\text{(eq.7)}\n",
    "\\end{equation}"
   ]
  },
  {
   "cell_type": "code",
   "execution_count": null,
   "metadata": {},
   "outputs": [],
   "source": [
    "# moduli plus temperature (potenttial) corrrection term \n",
    "def pmodT ( To, data, x, comp , ep ):\n",
    "    T0=300\n",
    "    Tp=1600\n",
    "    return  ( data['K'][comp] + (4./3)*data['Mu'][comp] + \n",
    "             data['KTDer'][comp] * (Tp - To) + (4./3) * data['MuTDer'][comp] * (Tp - To) )\n",
    "\n",
    "def smodT ( To, data, x, comp , ep ):\n",
    "    T0=300\n",
    "    Tp=1600\n",
    "    return  ( data['Mu'][comp] + data['MuTDer'][comp] * (Tp - To) )"
   ]
  },
  {
   "cell_type": "code",
   "execution_count": null,
   "metadata": {},
   "outputs": [],
   "source": [
    "# temperature corrrection term for the moduli\n",
    "def moduli ( To, data, x, comp):\n",
    "    return  ( data['KTDer'][comp] * (x - To) + (4./3) * data['MuTDer'][comp] * (x - To) )\n",
    "\n",
    "def s_moduli ( To, data, x, comp):\n",
    "    return  ( data['MuTDer'][comp] * (x - To) )"
   ]
  },
  {
   "cell_type": "code",
   "execution_count": null,
   "metadata": {},
   "outputs": [],
   "source": [
    "def moduli_der0 ( To, data, x, comp , ep ):\n",
    "    T0=300\n",
    "    return ( data['KPDer'][comp] + (4/3) * data['MuPDer'][comp] ) *   \\\n",
    "           ( np.exp ( data['a0'][comp] * (x - T0) + ( data['a1'][comp] / 2 ) * (x - T0)**2) )\n",
    "\n",
    "def smoduli_der0 ( To, data, x, comp , ep ):\n",
    "    T0=300\n",
    "    return ( data['MuPDer'][comp] ) *   \\\n",
    "           ( np.exp ( data['a0'][comp] * (x - T0) + ( data['a1'][comp] / 2 ) * (x - T0)**2) )"
   ]
  },
  {
   "cell_type": "code",
   "execution_count": null,
   "metadata": {},
   "outputs": [],
   "source": [
    "def moduli_der (To, data, x, comp):\n",
    "    T0=300\n",
    "    return ( data['KPDer'][comp] + (4/3) * data['MuPDer'][comp] ) *   \\\n",
    "           ( ( np.exp ( data['a0'][comp] * (x - T0) + ( data['a1'][comp] / 2 ) * (x - T0)**2) ) \\\n",
    "            * ( data['a0'][comp] + data['a1'][comp] * (x - T0) )  * ( x - To ) ) \n",
    "\n",
    "def smoduli_der (To, data, x, comp):\n",
    "    T0=300\n",
    "    return ( data['MuPDer'][comp] ) *   \\\n",
    "           ( ( np.exp ( data['a0'][comp] * (x - T0) + ( data['a1'][comp] / 2 ) * (x - T0)**2) ) \\\n",
    "            * ( data['a0'][comp] + data['a1'][comp] * (x - T0) )  * ( x - To ) ) \n",
    "\n",
    "### By definition of eq. 1, T0 is surface temp.\n",
    "### However, eq. 7 is resulant of derivatives to temperaure difference \n",
    "### So, To means reference temp and X means perturbation temp"
   ]
  },
  {
   "cell_type": "markdown",
   "metadata": {},
   "source": [
    "\\begin{equation}\n",
    "\\partial M = (1-2\\epsilon)^{5/2}\\left\\{\\frac{\\partial M}{\\partial T}\\partial T+ \\epsilon [5\\frac{\\partial M}{\\partial T}\\partial T-3\\frac{\\partial K}{\\partial T} \\left ( \\frac{\\partial K}{\\partial P} -(4/3) \\frac{\\partial G}{\\partial P}\\right )\\partial T - 3K\\partial M'(T)] \\right\\} \\approx \\qquad (1-2\\epsilon)^{5/2}\\left\\{\\frac{\\partial M}{\\partial T}\\Delta T+ \\epsilon [5\\frac{\\partial M}{\\partial T}\\Delta T-3\\frac{\\partial K}{\\partial T} \\left ( \\frac{\\partial K}{\\partial P} -(4/3) \\frac{\\partial G}{\\partial P}\\right )\\Delta T - 3K\\partial M'(T)] \\right\\}\\text{(eq.8)}\n",
    "\\end{equation}"
   ]
  },
  {
   "cell_type": "markdown",
   "metadata": {},
   "source": [
    "\\begin{equation}\n",
    "\\partial G = (1-2\\epsilon)^{5/2}\\left\\{\\frac{\\partial G}{\\partial T}\\partial T+ \\epsilon [5\\frac{\\partial G}{\\partial T}\\partial T-3\\frac{\\partial K}{\\partial T}  \\frac{\\partial G}{\\partial P}\\partial T - 3K\\partial G'(T)] \\right\\} \\approx \\qquad (1-2\\epsilon)^{5/2}\\left\\{\\frac{\\partial G}{\\partial T}\\Delta T+ \\epsilon [5\\frac{\\partial G}{\\partial T}\\Delta T-3\\frac{\\partial K}{\\partial T}  \\frac{\\partial G}{\\partial P}\\Delta T - 3K\\partial G'(T)] \\right\\} \\qquad \\text{(eq.9)}\n",
    "\\end{equation}"
   ]
  },
  {
   "cell_type": "code",
   "execution_count": null,
   "metadata": {},
   "outputs": [],
   "source": [
    "# P, T function for K and mu \n",
    "def pmodPT ( To, data, x, comp , ep ):\n",
    "    return ( ( 1 - 2*ep )**(5/2) ) * ( pmodT(data, x, comp) +\n",
    "            ep * ( 5 * pmodT(data, x, comp)  - 3 * ( pmodT(data, x, comp) - (4/3)*smodT(data, x, comp) ) * \\\n",
    "                  ( moduli_der0 ( To, data, x, comp , ep ) ) ) ) \n",
    "\n",
    "def smodPT ( To, data, x, comp , ep ):  \n",
    "    return ( ( 1 - 2*ep )**(5/2) ) * ( smodT( To, data, x, comp , ep )  +   \\\n",
    "            ep * ( 5 * smodT( To, data, x, comp , ep )  - 3 * ( pmodT( To, data, x, comp , ep ) - (4/3)*smodT( To, data, x, comp , ep ) ) *  \\\n",
    "                 ( smoduli_der0 ( To, data, x, comp , ep ) ) ) )"
   ]
  },
  {
   "cell_type": "code",
   "execution_count": null,
   "metadata": {},
   "outputs": [],
   "source": [
    "# P, T function for K and mu delivative to temperature difference\n",
    "def p_modulus ( To, data, x, comp , ep ):   \n",
    "    return ( ( 1 - 2*ep )**(5/2) ) * ( moduli ( To, data, x, comp)   +   \\\n",
    "            ep * ( 5 * moduli ( To, data, x, comp)  - 3 * ( data['KTDer'][comp] ) *  \\\n",
    "          ( x- To ) * ( data['KPDer'][comp]  + (4/3) * data['MuPDer'][comp] ) - 3 * data['K'][comp] *   \\\n",
    "            ( moduli_der (To, data, x, comp ) ) ) ) \n",
    "\n",
    "def s_modulus ( To, data, x, comp , ep ):   \n",
    "    return ( ( 1 - 2*ep )**(5/2) ) * ( s_moduli ( To, data, x, comp)   +   \\\n",
    "            ep * ( 5 * s_moduli ( To, data, x, comp)  - 3 * ( data['KTDer'][comp] ) *  \\\n",
    "          ( x- To ) * (  data['MuPDer'][comp] ) - 3 * data['K'][comp] * (3/4) * \\\n",
    "            ( moduli_der (To, data, x, comp ) ) ) )  "
   ]
  },
  {
   "cell_type": "code",
   "execution_count": null,
   "metadata": {},
   "outputs": [],
   "source": [
    "def density_der(comp, rho, To, data, x, ep):\n",
    "    T0=300\n",
    "    Tp=1600\n",
    "    return - data['rho'][comp] * np.exp (- data['a0'][comp] * (Tp - T0) - \\\n",
    "        ( data['a1'][comp] / 2) * (Tp - T0) ** 2  ) * ( data['a0'][comp] + data['a1'][comp] * (x - 300) ) * \\\n",
    "        ( x - To) * ( 1 - 2*ep )**(3/2.) "
   ]
  },
  {
   "cell_type": "code",
   "execution_count": null,
   "metadata": {},
   "outputs": [],
   "source": [
    "# inversion for temperature\n",
    "def double_derivative (f, x, h, delVp, ep, rho, To, data, P, Vso, Vpo):\n",
    "    return (f(x+h, delVp, ep, rho, To, data, P, Vso, Vpo) + f(x-h, delVp, ep, rho, To, data, P, Vso, Vpo) -\n",
    "            2 * f(x-h, delVp, ep, rho, To, data, P, Vso, Vpo) ) / (h**2)  \n",
    "\n",
    "def derivative (f, x, h, delVp, ep, rho, To, data, P, Vso, Vpo):\n",
    "    return (f(x+h, delVp, ep, rho, To, data, P, Vso, Vpo) - f(x-h, delVp, ep, rho, To, data, P, Vso, Vpo)  ) / (2 * h)"
   ]
  },
  {
   "cell_type": "markdown",
   "metadata": {},
   "source": [
    "$$\\partial V_p / \\partial T=  \\partial V_{panh} / \\partial T +\\partial V_{pane} / \\partial T \\dots (eq.11)$$"
   ]
  },
  {
   "cell_type": "markdown",
   "metadata": {},
   "source": [
    "$$ where, $$"
   ]
  },
  {
   "cell_type": "markdown",
   "metadata": {},
   "source": [
    "\n",
    "$$Q_p^{-1} = \\left (1-4/3 \\left (\\frac{V_s}{V_p} \\right )^2 \\right )Q_k^{-1} + 4/3 \\left (\\frac{V_s}{V_p} \\right )^2 \\left ( Aw^a\\exp \\left (\\frac {a(E+PV)}{RT}  \\right ) \\right )^{-1} \\dots (eq.12) $$"
   ]
  },
  {
   "cell_type": "markdown",
   "metadata": {},
   "source": [
    "$$ \\partial V_p = \\frac{1}{\\sqrt \\rho} \\frac{1}{2\\sqrt {K+4G/3}}\\partial (K+4G/3)-\\frac {\\sqrt {K+4G/3}}{2 \\rho^{3/2}} \\partial \\rho + {Q_p}^-1\\frac{aH}{2RT^2 \\tan {\\frac {\\pi a}{2}}}(T-T_r) \\dots (eq.13)$$"
   ]
  },
  {
   "cell_type": "markdown",
   "metadata": {},
   "source": [
    "$$\\partial V_s / \\partial T=  \\partial V_{sanh} / \\partial T +\\partial V_{sane} / \\partial T \\dots (eq.14)$$"
   ]
  },
  {
   "cell_type": "markdown",
   "metadata": {},
   "source": [
    "$$ where, $$"
   ]
  },
  {
   "cell_type": "markdown",
   "metadata": {},
   "source": [
    "$$Q_s^{-1} = \\left ( Aw^a\\exp \\left (\\frac {a(E+PV)}{RT}  \\right ) \\right )^{-1} \\dots (eq.15) $$"
   ]
  },
  {
   "cell_type": "markdown",
   "metadata": {},
   "source": [
    "$$ \\partial V_s = \\frac{1}{\\sqrt \\rho} \\frac{1}{2\\sqrt G}\\partial G-\\frac {\\sqrt G}{2 \\rho^{3/2}} \\partial \\rho + {Q_s}^-1\\frac{aH}{2RT^2 \\tan {\\frac {\\pi a}{2}}}(T-T_r) \\dots (eq.16)$$"
   ]
  },
  {
   "cell_type": "code",
   "execution_count": null,
   "metadata": {},
   "outputs": [],
   "source": [
    "def temperature_p ( x, delVp, ep, rho, To, data, P, Vso, Vpo):\n",
    "    p_modulus0 = K_avg + (4/3)*Muavg     \n",
    "    return ( 1/(2 * np.sqrt(rho_avg * p_modulus0) ) ) * ( data['conc'][0] *  p_modulus ( To, data, x, 0 , ep ) +\n",
    "            data['conc'][1] *  p_modulus ( To, data, x, 1 , ep ) + data['conc'][2] *\n",
    "            p_modulus ( To, data, x, 2 , ep ) ) - ( ( np.sqrt(p_modulus0)/( 2 * ( (rho_avg) ** 3/2 ) ) ) * \\\n",
    "            ( data['conc'][0] * density_der (0, rho, To, data, x , ep) +  data['conc'][1] * \n",
    "             density_der (1, rho, To, data, x, ep) + data['conc'][2] * density_der (2, rho, To, data, x, ep ) ) ) \\\n",
    "             + ( ( a * H * (4/3) * (Vso/Vpo)**2 ) * ( ( A * ( ( 2*np.pi )**a ) * \n",
    "             np.exp ( a * ( H + P*V ) / ( R * To ) ) ) ** -1 ) /(2 * R * ( To ** 2) * np.tan ( np.pi * a/2 ) ) ) \\\n",
    "             * (x - To) - delVp"
   ]
  },
  {
   "cell_type": "code",
   "execution_count": null,
   "metadata": {},
   "outputs": [],
   "source": [
    "def temperature_s ( x, delVs, ep, rho, To, data, P, Vso, Vpo):\n",
    "    data['KPDer'][:] = 0;\n",
    "    return ( 1/(2 * np.sqrt(rho * (data['conc'][0] * smodPT (To, data, x, 0 , ep) + data['conc'][1] * smodPT (To, data, x, 1 , ep) + data['conc'][2] * smodPT (To, data, x, 2 , ep))) ) ) * (data['conc'][0] * ( s_modulus ( To, data, x, 0 , ep ) +\n",
    "            data['conc'][1] *  s_modulus ( To, data, x, 1 , ep ) + data['conc'][2] *\n",
    "            s_modulus ( To, data, x, 2 , ep ) ) ) - ( ( np.sqrt((data['conc'][0] * smodPT (To, data, x, 0 , ep) + data['conc'][1] * smodPT (To, data, x, 1 , ep) + data['conc'][2] * smodPT (To, data, x, 2 , ep)))/( 2 * ( rho ** 3/2 ) ) ) * \\\n",
    "            ( data['conc'][0] * density_der (0, rho, To, data, x , ep) +  data['conc'][1] * \n",
    "             density_der (1, rho, To, data, x, ep) + data['conc'][2] * density_der (2, rho, To, data, x, ep ) ) ) \\\n",
    "             + ( ( a * H ) * ( ( A * ( ( 2*np.pi )**a ) * \n",
    "             np.exp ( a * ( H + P*V ) / ( R * To ) ) ) ** -1 ) /(2 * R * ( To ** 2) * np.tan ( np.pi * a/2 ) ) ) \\\n",
    "             * (x - To) - delVs\n",
    "                    \n",
    "#     s_modulus0 = Muavg  \n",
    "#     data['KPDer'][:] = 0 ;\n",
    "#     return ( 1/(2 * np.sqrt(rho * s_modulus0) ) ) * (data['conc'][0] * ( s_modulus ( To, data, x, 0 , ep ) +\n",
    "#             data['conc'][1] *  s_modulus ( To, data, x, 1 , ep ) + data['conc'][2] *\n",
    "#             s_modulus ( To, data, x, 2 , ep ) ) ) - ( ( np.sqrt(s_modulus0)/( 2 * ( rho ** 3/2 ) ) ) * \\\n",
    "#             ( data['conc'][0] * density_der (0, rho, To, data, x , ep) +  data['conc'][1] * \n",
    "#              density_der (1, rho, To, data, x, ep) + data['conc'][2] * density_der (2, rho, To, data, x, ep ) ) ) \\\n",
    "#              + ( ( a * H ) * ( ( A * ( ( 2*np.pi )**a ) * \n",
    "#              np.exp ( a * ( H + P*V ) / ( R * To ) ) ) ** -1 ) /(2 * R * ( To ** 2) * np.tan ( np.pi * a/2 ) ) ) \\\n",
    "#              * (x - To) - delVs"
   ]
  },
  {
   "cell_type": "code",
   "execution_count": null,
   "metadata": {},
   "outputs": [],
   "source": [
    "def solve_T (f, x0, h, delVp, ep, rho, To, data, P, Vso, Vpo):\n",
    "    lastX = x0\n",
    "    nextX = lastX +  10 * h  # \"different than lastX so loop starts OK\n",
    "    while (abs(lastX - nextX) > h):  # this is how you terminate the loop - note use of abs()        \n",
    "        newY  = f (nextX, delVp, ep, rho, To, data, P, Vso, Vpo)          # just for debug... see what happens\n",
    "#         print (newY)     # print out progress... again just debug\n",
    "        lastX = nextX\n",
    "        nextX = lastX -  f (nextX,  delVp, ep, rho, To, data, P, Vso, Vpo) / derivative(f, lastX, h,  delVp, ep, rho, To, data, P, Vso, Vpo)  # update estimate using N-R\n",
    "    return nextX"
   ]
  },
  {
   "cell_type": "code",
   "execution_count": null,
   "metadata": {},
   "outputs": [],
   "source": [
    "To = np.ones(len(depth)) ; ep_cal = np.ones(len(depth))\n",
    "rho_cal = np.ones(len(depth)); T = np.ones(len(depth)) \n",
    "P = np.ones(len(depth)) "
   ]
  },
  {
   "cell_type": "code",
   "execution_count": null,
   "metadata": {},
   "outputs": [],
   "source": [
    "# invert for temperatures\n",
    "x0 = 500;\n",
    "depth_a =  adiabat[:,1] / 1e3 # tomography is in m, easier for comparison\n",
    "T_a = adiabat[:,2]\n",
    "Vp_o  = data_korean[:,5]*1.e3\n",
    "Vs_o  = data_korean[:,5]*1.e3\n",
    "\n",
    "for i in range(len(depth)):\n",
    "    To[i]      = (T_ref[:,1][5.0 >= np.abs(depth[i]-T_ref[:,0])].max()) # reference temperature with depth\n",
    "    ep_cal[i]  = strain [5.0 >= np.abs(depth[i]-depth_a)].max()\n",
    "    P[i]       = (pressures[5.0 >= np.abs(depth[i]-depth_a)].max())\n",
    "    rho_cal[i] = rho [5.0 >= np.abs(depth[i]-depth_a)].max()\n",
    "    \n",
    "# equation to get x\n",
    "    T[i]     = solve_T (temperature_s, x0, 1,  S_data_anonmal[i]*1e3, ep_cal[i], rho_cal[i], To[i], data, P[i], \n",
    "                        Vs_o[i], Vp_o[i])\n",
    "\n",
    "    if np.mod((i+9597), 9597)== 0:\n",
    "        print(To[i], Vs_o[i], ep_cal[i], rho_cal[i], depth[i])\n",
    "        \n",
    "#     for j in range(10): # Non-linear loop \n",
    "#         if j==0:\n",
    "#             T[i]     = solve_T (temperature_s, x0, 1,  S_data_anonmal[i]*1e3, ep_cal[i], rho_cal[i], To[i], data, P[i], Vs_o[i], Vp_o[i])     \n",
    "#             k_avg=(data['conc'][0]*(p_modulus0(data, To[i], 0 , ep_cal[i])-4/3*s_modulus0(data, To[i], 0 , ep_cal[i]))+\n",
    "#                    data['conc'][1]*(p_modulus0(data, To[i], 1 , ep_cal[i])-4/3*s_modulus0(data, To[i], 1 , ep_cal[i]))+\n",
    "#                    data['conc'][2]*(p_modulus0(data, To[i], 2 , ep_cal[i])-4/3*s_modulus0(data, To[i], 2 , ep_cal[i])))\n",
    "#             KPDer_avg=(data['conc'][0]*(moduli_der0(data, T[i], 0 )-4/3*smoduli_der0(data, T[i], 0))+\n",
    "#                        data['conc'][1]*(moduli_der0(data, T[i], 1)-4/3*smoduli_der0(data, T[i], 1))+\n",
    "#                        data['conc'][2]*(moduli_der0(data, T[i], 2)-4/3*smoduli_der0(data, T[i], 2)))  \n",
    "#             N_strain[i]     = solve_ep (epsilon, ep0, 1.e-15, P[i], K_avg, KPDer_avg) # equation to get strain\n",
    "#         else:\n",
    "#             T[i]     = solve_T (temperature_s, T[i], 1,  S_data_anonmal[i]*1e3, N_strain[i], rho_cal[i], To[i], data, P[i], Vs_o[i], Vp_o[i])     \n",
    "#             k_avg=(data['conc'][0]*(p_modulus0(data, T[i], 0 , N_strain[i])-4/3*s_modulus0(data, T[i], 0 , N_strain[i]))+\n",
    "#                    data['conc'][1]*(p_modulus0(data, T[i], 1 , N_strain[i])-4/3*s_modulus0(data, T[i], 1 , N_strain[i]))+\n",
    "#                    data['conc'][2]*(p_modulus0(data, T[i], 2 , N_strain[i])-4/3*s_modulus0(data, T[i], 2 , N_strain[i])))\n",
    "#             KPDer_avg=(data['conc'][0]*(moduli_der0(data, T[i], 0 )-4/3*smoduli_der0(data, T[i], 0))+\n",
    "#                        data['conc'][1]*(moduli_der0(data, T[i], 1)-4/3*smoduli_der0(data, T[i], 1))+\n",
    "#                        data['conc'][2]*(moduli_der0(data, T[i], 2)-4/3*smoduli_der0(data, T[i], 2)))            \n",
    "#             lastN = N_strain[i]\n",
    "#             N_strain[i]     = solve_ep (epsilon, ep0, 1.e-15, P[i], K_avg, KPDer_avg)"
   ]
  },
  {
   "cell_type": "code",
   "execution_count": null,
   "metadata": {},
   "outputs": [],
   "source": [
    "T_results = np.loadtxt('initial_temperature_S_tomography.txt', skiprows=4, usecols=3)"
   ]
  },
  {
   "cell_type": "code",
   "execution_count": null,
   "metadata": {},
   "outputs": [],
   "source": [
    "d_crust = (deep < 20.0) & (deep > 0.0)\n",
    "lat_c = data_korean[d_crust, 1]\n",
    "long_c = data_korean[d_crust, 0]\n",
    "d_c = data_korean[d_crust, 2]\n",
    "T_crust = ((data_korean[d_crust,5] - data_korean[d_crust,6]) * grad_crust)*1000 + 484.13\n",
    "\n",
    "d_crust2 = (deep < 40.0) & (deep > 20.0)\n",
    "lat_c2 = data_korean[d_crust2, 1]\n",
    "long_c2 = data_korean[d_crust2, 0]\n",
    "d_c2 = data_korean[d_crust2, 2]\n",
    "T_crust2 = ((data_korean[d_crust2,5] - data_korean[d_crust2,6]) * grad_crust2)*1000 + 588.05\n",
    "\n",
    "# print(max(T_crust), min(T_crust), max(T_crust2), min(T_crust2))"
   ]
  },
  {
   "cell_type": "code",
   "execution_count": null,
   "metadata": {},
   "outputs": [],
   "source": [
    "d_q = np.unique(depth)\n",
    "d_cal   = np.reshape(depth,(len(d_q), 101, 95))\n",
    "T_cal   = np.reshape(T, (len(d_q), 101, 95))\n",
    "dVs_cal = np.reshape(S_data_anonmal , (len(d_q), 101, 95))\n",
    "# Vp_cal = np.reshape(Vp, (len(d_q), npts, npts))\n",
    "\n",
    "lat_cal = np.reshape(latitude,(len(d_q), 101, 95))\n",
    "long_cal= np.reshape(longitude,(len(d_q), 101, 95))\n",
    "n = 15\n",
    "(fig, (ax1, ax2)) = plt.subplots(1, 2, figsize=(20,6))\n",
    "plt.rcParams.update({'font.size': 14})\n",
    "CB = ax1.pcolormesh(long_cal[n,:, :], lat_cal[n, :, :], T_cal[n ,:, :], cmap=cm.hot, shading='gouraud')\n",
    "CB1 = ax2.pcolormesh(long_cal[n,:, :], lat_cal[n, :, :], dVs_cal[n ,:, :], cmap=cm.hot, shading='gouraud')\n",
    "cbar = plt.colorbar(CB, shrink=0.6, ax=ax1)\n",
    "cbar2 = plt.colorbar(CB1, shrink=0.6, ax=ax2)\n",
    "\n",
    "CB.axes.set_xlim([122, 135])\n",
    "CB.axes.set_ylim([31, 41])\n",
    "CB1.axes.set_xlim([122, 135])\n",
    "CB1.axes.set_ylim([31, 41])\n",
    "plt.show()\n",
    "print(np.unique(depth)[n])\n",
    "print(np.unique(depth))"
   ]
  },
  {
   "cell_type": "code",
   "execution_count": null,
   "metadata": {
    "scrolled": true
   },
   "outputs": [],
   "source": [
    "print (d_q[14])"
   ]
  },
  {
   "cell_type": "code",
   "execution_count": null,
   "metadata": {},
   "outputs": [],
   "source": [
    "# addting two buffer layer for crust (18.8 km and 38.8 km)\n",
    "\n",
    "T_c = np.concatenate([ T, T_crust2, T_crust]);\n",
    "lat = np.concatenate([latitude, lat_c2, lat_c])\n",
    "longt = np.concatenate([longitude, long_c2, long_c])\n",
    "depth_c = np.concatenate([depth, d_c2, d_c])\n",
    "# T_c = np.concatenate([ T]);\n",
    "\n",
    "# T_c = np.concatenate([ T, T_crust]);\n",
    "# # T_a = np.concatenate([ AT, T_crust]);\n",
    "# lat = np.concatenate([latitude, lat_c])\n",
    "# longt = np.concatenate([longitude, long_c])\n",
    "# depth_c = np.concatenate([depth,d_c])\n",
    "# lat = np.concatenate([latitude])\n",
    "# longt = np.concatenate([longitude])\n",
    "# depth_c = np.concatenate([depth])\n",
    "\n",
    "print (np.shape(lat ), np.shape(depth_c), np.shape(T_c))\n",
    "\n",
    "r = (6370 - depth_c)*1e3\n",
    "long_f = longt*np.pi/180\n",
    "lat_f = (90 - lat)*np.pi/180\n",
    "ind = np.lexsort((r, long_f, lat_f))\n",
    "np.savetxt('initial_temperature_S_tomography.txt', \\\n",
    "            np.stack((r[ind], long_f[ind], lat_f[ind], T_c[ind]), axis=-1))"
   ]
  },
  {
   "cell_type": "code",
   "execution_count": null,
   "metadata": {},
   "outputs": [],
   "source": [
    "min(T_c)\n",
    "# print([S_data_anonmal == max(S_data_anonmal)])"
   ]
  },
  {
   "cell_type": "code",
   "execution_count": null,
   "metadata": {},
   "outputs": [],
   "source": [
    "print(long_f[ind])\n"
   ]
  }
 ],
 "metadata": {
  "kernelspec": {
   "display_name": "Python 3",
   "language": "python",
   "name": "python3"
  },
  "language_info": {
   "codemirror_mode": {
    "name": "ipython",
    "version": 3
   },
   "file_extension": ".py",
   "mimetype": "text/x-python",
   "name": "python",
   "nbconvert_exporter": "python",
   "pygments_lexer": "ipython3",
   "version": "3.6.8"
  }
 },
 "nbformat": 4,
 "nbformat_minor": 2
}
