{
 "cells": [
  {
   "cell_type": "code",
   "execution_count": null,
   "metadata": {},
   "outputs": [],
   "source": [
    "import numpy as np\n",
    "from math import tan, pi\n",
    "from scipy.interpolate import griddata\n",
    "import matplotlib.pyplot as plt\n",
    "from matplotlib import cm "
   ]
  },
  {
   "cell_type": "code",
   "execution_count": null,
   "metadata": {},
   "outputs": [],
   "source": [
    "# load tomography and iasp model\n",
    "data_korean = np.loadtxt(\"Koreavel.xyz\", skiprows=1)\n",
    "deep    = data_korean[:,2]\n",
    "d = deep >= 40\n",
    "P_data_anonmal = data_korean[d,3] - data_korean[d,4] # delta Vp \n",
    "S_data_anonmal = data_korean[d,5] - data_korean[d,6] # delta Vs\n",
    "S_data = data_korean[d,6]\n",
    "adiabat = np.loadtxt('adiabat_pt.txt') # adiabatic temp from burnman\n",
    "T_ref = np.loadtxt('reference_temp_c.txt', skiprows=1)\n",
    "longitude = data_korean[d,0]\n",
    "latitude = data_korean[d,1]\n",
    "depth    = data_korean[d,2]"
   ]
  },
  {
   "cell_type": "code",
   "execution_count": null,
   "metadata": {},
   "outputs": [],
   "source": [
    "print (len(np.unique(depth)), len(np.unique(latitude)), len(np.unique(longitude)))"
   ]
  },
  {
   "cell_type": "code",
   "execution_count": null,
   "metadata": {},
   "outputs": [],
   "source": [
    "# define mineral physics constants used in this study\n",
    "## The table is from Fabio et al., 2003\n",
    "data = np.array([('ol', 0.82, 4.2, 1.4, -0.017e9, -0.014e9, 129e9, 81e9, 3222, 0.201e-4, 0.139e-7, 0.1627e-2, \n",
    "                  1.658e2, 0.2332e-2, -0.3971e7) , \n",
    "       ('opx', 0.144, 7, 1.6, -0.027e9, -0.012e9, 109e9, 75e9, 3215, 0.3871e-4, 0.0446e-7, 0.03435e-2, \n",
    "       1.855e2, 0.233e-2, -0.6326e7) , \n",
    "       ('gt', 0.036, 4.4, 1.4, -0.019e9, -0.01e9, 171e9, 92e9, 3565, 0.0991e-4, 0.1165e-7, 1.0624e-2, \n",
    "       1.44e2, 0.188e-2, -0.135e7)], \n",
    "        dtype=[('name', 'U10'), ('conc', 'f4'), ('KPDer', 'f4'), ('MuPDer', 'f4'), \n",
    "        ('KTDer', 'f4'), ('MuTDer', 'f4'), ('K', 'f4'), ('Mu', 'f4'), ('rho', 'f4'), \n",
    "        ('a0', 'f4'), ('a1', 'f4'), ('a2', 'f4'), ('cp0', 'f4'), ('cp1', 'f4'), ('cp2', 'f4')])\n",
    "\n",
    "## Anelasticity Parameter \n",
    "## There is original reference in Goes and Govers, 2000, Shallow mantle temperatures under Europe from P and S\n",
    "## wave tomography, JGR, 97\n",
    "A = 1.48e-1 ; H = 500e3; V = 20e-6; a = 0.15 ;d=1e-3\n",
    "#A = 0.0013e-6\n",
    "#E = 424e3\n",
    "R = 8.314\n",
    "grad_crust = -0.17; ## Yan et al., 2016, Stress development in heterogenetic lithosphere. Techtonophysics, 671, pp 56-62.\n",
    "grad_crust2 = -0.25; ## Yan et al., 2016, Stress development in heterogenetic lithosphere. Techtonophysics, 671, pp 56-62."
   ]
  },
  {
   "cell_type": "markdown",
   "metadata": {},
   "source": [
    "We assume that for a fixed pressure $p_{0}$, density at temperature $T$ is determined with respect to a reference value at $T_{0}$ as follows:\n",
    "\\begin{equation}\n",
    "\\rho(T, P_0) = \\rho(T_0, P_0)\\exp\\left( -\\int_{T_0}^{T} \\alpha(T^{\\prime})\\ dT^{\\prime} \\right), \\qquad \\text{(eq.1)}\n",
    "\\end{equation}\n",
    "where $\\alpha$ is thermal expansion coefficient. \n",
    "\n",
    "Following [Saxena and Shen, 1992, JGR, 97, pp 19813-19825], the polynomial form of $\\alpha$ is assumed to be\n",
    "\\begin{equation}\n",
    "\\alpha(T)=\\alpha_0 + \\alpha_1T + \\alpha_2T^{-1} + \\alpha_3T^{-2} + \\ldots.\n",
    "\\end{equation}\n",
    "\n",
    "Plugging the polynomial form into eq. 1, we get\n",
    "\\begin{equation}\n",
    "\\rho(T, P_0) = \\rho(T_0, P_0) \\exp \\left(-(\\alpha_0(T-T_0) + \\frac{1}{2}\\alpha_1(T-T_0)^2 + \\alpha_2ln(T-T_0) + ...) \\right). \\qquad \\text{(eq.2)}\n",
    "\\end{equation}\n",
    "\n",
    "**[EC]**: I think we should get the following as eq.2:\n",
    "\\begin{equation}\n",
    "\\rho(T, P_0) = \\rho(T_0, P_0) \\exp \\left(-\\left[\\alpha_{0}\\,(T-T_0) + \\frac{1}{2}\\alpha_{1}\\,(T^{2}-T_{0}^{2}) + \\alpha_2\\,(\\ln(T)-\\ln(T_{0})) + \\ldots \\right] \\right). \\qquad \\text{(eq.2)}\n",
    "\\end{equation}\n",
    "\n",
    "### Notes from the code block for density function:\n",
    "- We should check what T0 means (atmophere temperature or surface temperautre)\n",
    "- In equation 1, T0 means 293 K (i.e. atmospheric temperature) \n",
    "- Equation 1 means that density changes in temperature using polynomoal thermal expansion with depth"
   ]
  },
  {
   "cell_type": "code",
   "execution_count": null,
   "metadata": {},
   "outputs": [],
   "source": [
    "def density(a0, a1, a2, rho0, T):\n",
    "    T0 = 293.0\n",
    "    #return (rho0 * np.exp (-a0 * (1600 - 293) - ( a1*(1600 - 293)**2 )/2 - a2*np.log (1600 - 293)))\n",
    "    #return (rho0 * np.exp (-a0 * (T - T0) - ( a1*(T - T0)**2 )/2 - a2*np.log (T - T0))) \n",
    "    return (rho0 * np.exp (-a0 * (T - T0) - 0.5*a1*(T**2 - T0**2) - a2*(np.log(T)-np.log(T0)))) "
   ]
  },
  {
   "cell_type": "markdown",
   "metadata": {},
   "source": [
    "**[EC]** We need the source for the equation, explanation for all the parameters used and the equation itself.\n",
    "\n",
    "<!--$$P + (1+\\epsilon)^{5/2}(3K\\epsilon+0.5(9K(4-K')\\epsilon^2 + ...)= 0 \\dots (eq.3)$$-->\n",
    "\\begin{equation}\n",
    "P + (1+\\epsilon)^{5/2}\\, \\left( 3K\\epsilon + \\frac{1}{2}\\,9K(4-K')\\,\\epsilon^2 + \\ldots \\right) = 0 \\qquad \\text{(eq.3)}\n",
    "\\end{equation}"
   ]
  },
  {
   "cell_type": "code",
   "execution_count": null,
   "metadata": {},
   "outputs": [],
   "source": [
    "def derivative (f, x, h, P, K, Kdash):\n",
    "    return (f(x+h, P, K, Kdash) - f(x-h, P, K, Kdash)) / (2.0*h) # might want to return a small non-zero if ==0\n",
    "\n",
    "def epsilon(x, P, K, Kdash):\n",
    "    return  ( (1 - 2*x) ** (5/2) ) * (3 * K * x + ( ( 9 * K * (4 - Kdash) )/ 2 ) * (x ** 2) )  + P \n",
    "\n",
    "def solve_ep (f, x0, h, P, K, Kdash):\n",
    "    lastX = x0\n",
    "    nextX = lastX + 10 * h  # \"different than lastX so loop starts OK\n",
    "    #print(abs(lastX - nextX)) \n",
    "    while (abs(lastX - nextX) > h):  # this is how you terminate the loop - note use of abs()\n",
    "        newY  = epsilon(nextX,  P, K, Kdash)                     # just for debug... see what happens\n",
    "#         print (newY)     # print out progress... again just debug\n",
    "        lastX = nextX\n",
    "        nextX = lastX - newY / derivative(f, lastX, h, P, K, Kdash)  # update estimate using N-R\n",
    "    return nextX"
   ]
  },
  {
   "cell_type": "markdown",
   "metadata": {},
   "source": [
    "**[EC]** We need the source for the equation, explanation for all the parameters used and the equation itself.\n",
    "\n",
    "$$\\rho(P, T) = (1-2\\epsilon)^{3/2}\\rho(P_0, T) \\dots (eq.4)$$"
   ]
  },
  {
   "cell_type": "code",
   "execution_count": null,
   "metadata": {},
   "outputs": [],
   "source": [
    "x0 = 1.e-8\n",
    "pressures = adiabat[:,0]\n",
    "depth_a =  adiabat[:,1] / 1e3 # tomography is in m, easier for comparison\n",
    "#T_a = adiabat[:,2]\n",
    "T_r = T_ref[:,1] # reference temp with depth\n",
    "strain = np.ones(len(pressures))\n",
    "rho = np.ones(len(pressures))\n",
    "\n",
    "# compositional dependence \n",
    "rho_avg = data['rho'][0] * data['conc'][0] + data['rho'][1] * data['conc'][1] + \\\n",
    "            data['conc'][2] * data['rho'][2]\n",
    "K_avg = ( data['conc'][0] * data['K'][0] + data['conc'][1] * data['K'][1] + data['conc'][2]*data['K'][2])\n",
    "Muavg = ( data['conc'][0] * data['Mu'][0] + data['conc'][1] * data['Mu'][1] + data['conc'][2]*data['Mu'][2])\n",
    "KPDer_avg = ( data['conc'][0] * data['KPDer'][0] + data['conc'][1] * data['KPDer'][1] + \\\n",
    "          data['conc'][2]*data['KPDer'][2])\n",
    "\n",
    "for i in range (len(pressures)):\n",
    "#    Ta   = (T_a [ depth_a <= depth[i]].max()) # reference temperature with depth\n",
    "    strain[i]     = solve_ep (epsilon, x0, 1.e-15, pressures[i], K_avg, KPDer_avg) # equation to get x\n",
    "#     rho[i] = ( data['conc'][0] *  data['rho'][0] + data['conc'][1] * data['rho'][1] + \\\n",
    "#               data['conc'][2] * data['rho'][2] ) * ( ( 1 - ( 2 * strain[i] ) ) ** (3/2) )\n",
    "    rho[i] = (( data['conc'][0] *  density ( data['a0'][0], data['a1'][0], data['a2'][0], data['rho'][0], T_r[i]) ) \n",
    "    + ( data['conc'][1] *  density ( data['a0'][1], data['a1'][1], data['a2'][1], data['rho'][1], T_r[i]) )\n",
    "    + ( data['conc'][2] *  density ( data['a0'][2], data['a1'][2], data['a2'][2], data['rho'][2], T_r[i]) ) ) \\\n",
    "    * ( ( 1 - ( 2 * strain[i] ) ) ** (3/2) )\n",
    "    \n",
    "### Equation 3 means that density changes in pressure using polynomoal strain equation\n",
    "### So, we can calculate density (P,T) at specific point"
   ]
  },
  {
   "cell_type": "code",
   "execution_count": null,
   "metadata": {
    "scrolled": true
   },
   "outputs": [],
   "source": [
    "print (rho)\n",
    "print(len(rho))"
   ]
  },
  {
   "cell_type": "markdown",
   "metadata": {},
   "source": [
    "$$ M = M(P_0,T_0)+\\left(\\left(\\frac{\\partial K}{\\partial T}\\right )_P+4/3\\left(\\frac{\\partial G}{\\partial T}\\right )_P \\right)(T-T_0) \\dots (eq.5) $$"
   ]
  },
  {
   "cell_type": "markdown",
   "metadata": {},
   "source": [
    "$$ \\partial M = \\left(\\left(\\frac{\\partial K}{\\partial T}\\right )_P+4/3\\left(\\frac{\\partial G}{\\partial T}\\right )_P \\right)(T-T_0) \\dots (eq.6) $$"
   ]
  },
  {
   "cell_type": "code",
   "execution_count": null,
   "metadata": {},
   "outputs": [],
   "source": [
    "# corrections to the moduli with temperature\n",
    "def moduliT (data, x, comp):\n",
    "#    return  ( data['K'][comp] + (4./3)*data['Mu'][comp] + data['KTDer'][comp] * (1600 - 293) + (4./3) * data['MuTDer'][comp] * (1600 - 293) )\n",
    "    return  ( data['K'][comp] + (4./3)*data['Mu'][comp] + data['KTDer'][comp] * (x - 293) + (4./3) * data['MuTDer'][comp] * (x - 293) )\n",
    "    \n",
    "### By definition of eq. 1, T0 is surface temp."
   ]
  },
  {
   "cell_type": "code",
   "execution_count": null,
   "metadata": {},
   "outputs": [],
   "source": [
    "# corrections to the moduli\n",
    "def moduli ( To, data, x, comp):\n",
    "    return  ( data['KTDer'][comp] * (x - To) + (4./3) * data['MuTDer'][comp] * (x - To) )"
   ]
  },
  {
   "cell_type": "markdown",
   "metadata": {},
   "source": [
    "$$ G = G(P_0,T_0)+\\left(\\frac{\\partial G}{\\partial T}\\right )_P(T-T_0) \\dots (eq.7)$$"
   ]
  },
  {
   "cell_type": "markdown",
   "metadata": {},
   "source": [
    "$$ \\partial G = \\left(\\frac{\\partial G}{\\partial T}\\right )_P(T-T_0) \\dots (eq.8)$$"
   ]
  },
  {
   "cell_type": "code",
   "execution_count": null,
   "metadata": {},
   "outputs": [],
   "source": [
    "# corrections to the moduli with temperature\n",
    "def s_moduliT (data, x, comp):\n",
    "#    return  ( data['Mu'][comp] + data['MuTDer'][comp] * (1600 - 293) )    \n",
    "    return  ( data['Mu'][comp] + data['MuTDer'][comp] * (x - 293) )    \n",
    "\n",
    "### By definition of eq. 1, T0 is surface temp."
   ]
  },
  {
   "cell_type": "code",
   "execution_count": null,
   "metadata": {},
   "outputs": [],
   "source": [
    "# corrections to the moduli\n",
    "def s_moduli ( To, data, x, comp):\n",
    "    return  ( data['MuTDer'][comp] * (x - To) )"
   ]
  },
  {
   "cell_type": "markdown",
   "metadata": {},
   "source": [
    "$$ M'(T) = \\left(\\left(\\frac{\\partial K}{\\partial P}\\right )_T+4/3\\left(\\frac{\\partial G}{\\partial P}\\right )_T \\right)\\exp(\\int\\limits_{T_0}^T \\alpha(T')\\ dT') = $$"
   ]
  },
  {
   "cell_type": "markdown",
   "metadata": {},
   "source": [
    "$$\\left( K'+ 4G'/3 \\right)\\exp(\\alpha_0(T-T_0) + 0.5\\alpha_1(T-T_0)^2 + \\alpha_2ln(T-T_0) + ...) \\dots (eq.9) $$"
   ]
  },
  {
   "cell_type": "markdown",
   "metadata": {},
   "source": [
    "$$ \\partial M'(T)/\\partial T' = \\left(\\left(\\frac{\\partial K}{\\partial P}\\right )_T+4/3\\left(\\frac{\\partial G}{\\partial P}\\right )_T \\right)\\exp(\\int\\limits_{T_0}^T \\alpha(T')\\ dT') = $$"
   ]
  },
  {
   "cell_type": "markdown",
   "metadata": {},
   "source": [
    "$$\\left( K'+ 4G'/3 \\right)\\exp(\\alpha_0(T-T_0) + 0.5\\alpha_1(T-T_0)^2 + \\alpha_2ln(T-T_0) + ...)\\alpha(T') \\dots (eq.10) $$"
   ]
  },
  {
   "cell_type": "markdown",
   "metadata": {},
   "source": [
    "$$ \\partial M'(T) = \\left(\\left(\\frac{\\partial K}{\\partial P}\\right )_T+4/3\\left(\\frac{\\partial G}{\\partial P}\\right )_T \\right)\\exp(\\int\\limits_{T_0}^T \\alpha(T')\\ dT') = $$"
   ]
  },
  {
   "cell_type": "markdown",
   "metadata": {},
   "source": [
    "$$\\left( K'+ 4G'/3 \\right)\\exp(\\alpha_0(T-T_0) + 0.5\\alpha_1(T-T_0)^2 + \\alpha_2ln(T-T_0) + ...)\\alpha(T')(T-T_r) \\dots (eq.10b) $$"
   ]
  },
  {
   "cell_type": "code",
   "execution_count": null,
   "metadata": {},
   "outputs": [],
   "source": [
    "# Modulus derivative to pressure of function of temperature \n",
    "def moduli_der0 (data, x, comp):\n",
    "    return ( data['KPDer'][comp] + (4/3) * data['MuPDer'][comp] ) *   \\\n",
    "( np.exp ( data['a0'][comp] * (x - 293) + ( data['a1'][comp] / 2 ) * (x - 293) ** 2  \\\n",
    "           ) ) "
   ]
  },
  {
   "cell_type": "code",
   "execution_count": null,
   "metadata": {},
   "outputs": [],
   "source": [
    "def moduli_der (To, data, x, comp):\n",
    "    return ( data['KPDer'][comp] + (4/3) * data['MuPDer'][comp] ) *   \\\n",
    "( ( np.exp ( data['a0'][comp] * (x - 300) + ( data['a1'][comp] / 2 ) * (x - 293) ** 2  \\\n",
    "           ) ) * ( data['a0'][comp] + data['a1'][comp] * (x) )  * ( x - To ) ) \n"
   ]
  },
  {
   "cell_type": "code",
   "execution_count": null,
   "metadata": {},
   "outputs": [],
   "source": [
    "# Modulus derivative to pressure of function of temperature \n",
    "def smoduli_der0 (data, x, comp):\n",
    "    return ( data['MuPDer'][comp] ) *   \\\n",
    "(   np.exp ( data['a0'][comp] * (x - 293) + ( data['a1'][comp] / 2 ) * (x - 293) ** 2 + \n",
    "             data['a2'][comp]*np.log (x - 293)  \\\n",
    "           )  ) "
   ]
  },
  {
   "cell_type": "code",
   "execution_count": null,
   "metadata": {},
   "outputs": [],
   "source": [
    "def smoduli_der (To, data, x, comp):\n",
    "    return ( data['MuPDer'][comp] ) *   \\\n",
    "( ( np.exp ( data['a0'][comp] * (x - 293) + ( data['a1'][comp] / 2 ) * (x - 293) ** 2  \\\n",
    "           ) ) * ( data['a0'][comp] + data['a1'][comp] * (x) )  * ( x - To ) ) \n",
    "\n",
    "### By definition of eq. 1, T0 is surface temp.\n",
    "### However, eq. 7 is resulant of derivatives to temperaure difference \n",
    "### So, To means reference temp and X means perturbation temp"
   ]
  },
  {
   "cell_type": "markdown",
   "metadata": {},
   "source": [
    "$$ M = (1-2\\epsilon)^{5/2}\\left\\{M + \\epsilon [5M-3KM'(T)] \\right\\}  \\dots (eq.11)$$"
   ]
  },
  {
   "cell_type": "markdown",
   "metadata": {},
   "source": [
    "$$\\partial M = (1-2\\epsilon)^{5/2}\\left\\{\\frac{\\partial M}{\\partial T}(T-T_r)+ \\epsilon [5\\frac{\\partial M}{\\partial T}(T-T_r)-3\\frac{\\partial K}{\\partial T} \\left ( \\frac{\\partial K}{\\partial P} -(4/3) \\frac{\\partial G}{\\partial P}\\right )(T-T_r) - 3K\\partial M'(T)] \\right\\}  \\dots (eq.12)$$"
   ]
  },
  {
   "cell_type": "code",
   "execution_count": null,
   "metadata": {},
   "outputs": [],
   "source": [
    "# P wave Modulus (P,T)\n",
    "def p_modulus0 (data, x, comp , ep ):   \n",
    "    return ( ( 1 - 2*ep )**(5/2) ) * ( moduliT(data, x, comp)   +   \\\n",
    "            ep * ( 5 * moduliT(data, x, comp)  - 3 * ( data['K'][comp] ) *  \\\n",
    "                 ( moduli_der0 (data, x, comp ) ) ) ) "
   ]
  },
  {
   "cell_type": "code",
   "execution_count": null,
   "metadata": {},
   "outputs": [],
   "source": [
    "# function for K and mu\n",
    "def p_modulus ( To, data, x, comp , ep ):   \n",
    "    return ( ( 1 - 2*ep )**(5/2) ) * ( moduli ( To, data, x, comp)   +   \\\n",
    "            ep * ( 5 * moduli ( To, data, x, comp)  - 3 * ( data['KTDer'][comp] ) *  \\\n",
    "          ( x- To ) * ( data['KPDer'][comp]  + (4/3) * data['MuPDer'][comp] ) - 3 * data['K'][comp] *   \\\n",
    "            ( moduli_der (To, data, x, comp ) ) ) ) "
   ]
  },
  {
   "cell_type": "markdown",
   "metadata": {},
   "source": [
    "$$ G = (1-2\\epsilon)^{5/2}\\left\\{G+ \\epsilon [5G- 3KG'(T)] \\right\\}  \\dots (eq.13)$$"
   ]
  },
  {
   "cell_type": "markdown",
   "metadata": {},
   "source": [
    "$$\\partial G = (1-2\\epsilon)^{5/2}\\left\\{\\frac{\\partial G}{\\partial T}(T-T_r)+ \\epsilon [5\\frac{\\partial G}{\\partial T}(T-T_r)-3\\frac{\\partial K}{\\partial T}  \\frac{\\partial G}{\\partial P}(T-T_r) - 3K\\partial G'(T)] \\right\\}  \\dots (eq.14)$$"
   ]
  },
  {
   "cell_type": "code",
   "execution_count": null,
   "metadata": {},
   "outputs": [],
   "source": [
    "# S wave Modulus (P,T)\n",
    "def s_modulus0 (data, x, comp , ep ):   \n",
    "    return ( ( 1 - 2*ep )**(5/2) ) * ( s_moduliT (data, x, comp)   +   \\\n",
    "            ep * ( 5 * s_moduliT ( data, x, comp)  - 3 * data['K'][comp] * ( smoduli_der0 (data, x, comp ) ) ) )  "
   ]
  },
  {
   "cell_type": "code",
   "execution_count": null,
   "metadata": {},
   "outputs": [],
   "source": [
    "# function for K and mu\n",
    "def s_modulus ( To, data, x, comp , ep ):   \n",
    "    return ( ( 1 - 2*ep )**(5/2) ) * ( s_moduli ( To, data, x, comp)   +   \\\n",
    "            ep * ( 5 * s_moduli ( To, data, x, comp)  - 3 * ( data['KTDer'][comp] ) *  \\\n",
    "          ( x- To ) * (  data['MuPDer'][comp] ) - 3 * data['K'][comp] * (3/4) * \\\n",
    "            ( moduli_der (To, data, x, comp ) ) ) )  "
   ]
  },
  {
   "cell_type": "code",
   "execution_count": null,
   "metadata": {},
   "outputs": [],
   "source": [
    "def density_der(comp, rho, To, data, x, ep):\n",
    "    return - data['rho'][comp] * np.exp (- data['a0'][comp] * (x - 293) - \\\n",
    "        ( data['a1'][comp] / 2) * (x - 293) ** 2  ) * ( data['a0'][comp] + data['a1'][comp] * x ) * \\\n",
    "        ( x - To) * ( 1 - 2*ep )**(3/2.) "
   ]
  },
  {
   "cell_type": "code",
   "execution_count": null,
   "metadata": {},
   "outputs": [],
   "source": [
    "# inversion for temperature\n",
    "def double_derivative (f, x, h, delVp, ep, rho, To, data, P, Vso, Vpo):\n",
    "    return (f(x+h, delVp, ep, rho, To, data, P, Vso, Vpo) + f(x-h, delVp, ep, rho, To, data, P, Vso, Vpo) -             2 * f(x-h, delVp, ep, rho, To, data, P, Vso, Vpo) ) / (h**2)  \n",
    "\n",
    "def derivative (f, x, h, delVp, ep, rho, To, data, P, Vso, Vpo):\n",
    "    return (f(x+h, delVp, ep, rho, To, data, P, Vso, Vpo) - f(x-h, delVp, ep, rho, To, data, P, Vso, Vpo)  ) / (2 * h)"
   ]
  },
  {
   "cell_type": "markdown",
   "metadata": {},
   "source": [
    "$$\\partial V_p / \\partial T=  \\partial V_{panh} / \\partial T +\\partial V_{pane} / \\partial T \\dots (eq.11)$$"
   ]
  },
  {
   "cell_type": "markdown",
   "metadata": {},
   "source": [
    "$$ where, $$"
   ]
  },
  {
   "cell_type": "markdown",
   "metadata": {},
   "source": [
    "\n",
    "$$Q_p^{-1} = \\left (1-4/3 \\left (\\frac{V_s}{V_p} \\right )^2 \\right )Q_k^{-1} + 4/3 \\left (\\frac{V_s}{V_p} \\right )^2 \\left ( Aw^a\\exp \\left (\\frac {a(E+PV)}{RT}  \\right ) \\right )^{-1} \\dots (eq.12) $$"
   ]
  },
  {
   "cell_type": "markdown",
   "metadata": {},
   "source": [
    "$$ \\partial V_p = \\frac{1}{\\sqrt \\rho} \\frac{1}{2\\sqrt {K+4G/3}}\\partial (K+4G/3)-\\frac {\\sqrt {K+4G/3}}{2 \\rho^{3/2}} \\partial \\rho + {Q_p}^-1\\frac{aH}{2RT^2 \\tan {\\frac {\\pi a}{2}}}(T-T_r) \\dots (eq.13)$$"
   ]
  },
  {
   "cell_type": "code",
   "execution_count": null,
   "metadata": {},
   "outputs": [],
   "source": [
    "def temperature_p ( x, delVp, ep, rho, To, data, P, Vso, Vpo):\n",
    "    p_modulus0 = K_avg + (4/3)*Muavg     \n",
    "    return ( 1/(2 * np.sqrt(rho_avg * p_modulus0) ) ) * ( data['conc'][0] *  p_modulus ( To, data, x, 0 , ep ) +\n",
    "            data['conc'][1] *  p_modulus ( To, data, x, 1 , ep ) + data['conc'][2] *\n",
    "            p_modulus ( To, data, x, 2 , ep ) ) - ( ( np.sqrt(p_modulus0)/( 2 * ( (rho_avg) ** 3/2 ) ) ) * \\\n",
    "            ( data['conc'][0] * density_der (0, rho, To, data, x , ep) +  data['conc'][1] * \n",
    "             density_der (1, rho, To, data, x, ep) + data['conc'][2] * density_der (2, rho, To, data, x, ep ) ) ) \\\n",
    "             + ( ( a * H * (4/3) * (Vso/Vpo)**2 ) * ( ( A * ( ( 2*np.pi )**a ) * \n",
    "             np.exp ( a * ( H + P*V ) / ( R * To ) ) ) ** -1 ) /(2 * R * ( To ** 2) * np.tan ( np.pi * a/2 ) ) ) \\\n",
    "             * (x - To) - delVp\n",
    "\n",
    "# def temperature_p ( x, delVp, ep, rho, To, data, P, Vso, Vpo):\n",
    "# #    p_modulus0 = K_avg + (4/3)*Muavg     \n",
    "#     return ( 1/(2 * np.sqrt(rho * ( data['conc'][0] *  p_modulus0 (data, x, 0 , ep ) +\n",
    "#             data['conc'][1] *  p_modulus0 (data, x, 1 , ep ) + data['conc'][2] *\n",
    "#             p_modulus0 (data, x, 2 , ep ) )) ) ) * ( data['conc'][0] *  p_modulus ( To, data, x, 0 , ep ) +\n",
    "#             data['conc'][1] *  p_modulus ( To, data, x, 1 , ep ) + data['conc'][2] *\n",
    "#             p_modulus ( To, data, x, 2 , ep ) ) - ( ( np.sqrt(( data['conc'][0] *  p_modulus0 (data, x, 0 , ep ) +\n",
    "#             data['conc'][1] *  p_modulus0 (data, x, 1 , ep ) + data['conc'][2] *\n",
    "#             p_modulus0 (data, x, 2 , ep ) ))/( 2 * ( (rho) ** 3/2 ) ) ) * \\\n",
    "#             ( data['conc'][0] * density_der (0, rho, To, data, x , ep) +  data['conc'][1] * \n",
    "#              density_der (1, rho, To, data, x, ep) + data['conc'][2] * density_der (2, rho, To, data, x, ep ) ) ) \\\n",
    "#              + ( ( a * H * (4/3) * (Vso/Vpo)**2 ) * ( ( A * ( ( 2*np.pi )**a ) * \n",
    "#              np.exp ( a * ( H + P*V ) / ( R * To ) ) ) ** -1 ) /(2 * R * ( To ** 2) * np.tan ( np.pi * a/2 ) ) ) \\\n",
    "#              * (x - To) - delVp\n",
    "\n",
    "### The last equation of appendix A is can be expressed in delivative form like eq. 11\n",
    "### I think the first term to the third term in eq. 11 are corresponding to the first term to the third term in eq. 12\n",
    "### , respectively. I understood first term (it is what we are done above) but I don't get it second and third.\n",
    "### Please share your derivation."
   ]
  },
  {
   "cell_type": "markdown",
   "metadata": {},
   "source": [
    "$$\\partial V_s / \\partial T=  \\partial V_{sanh} / \\partial T +\\partial V_{sane} / \\partial T \\dots (eq.14)$$"
   ]
  },
  {
   "cell_type": "markdown",
   "metadata": {},
   "source": [
    "$$ where, $$"
   ]
  },
  {
   "cell_type": "markdown",
   "metadata": {},
   "source": [
    "$$Q_s^{-1} = \\left ( Aw^a\\exp \\left (\\frac {a(E+PV)}{RT}  \\right ) \\right )^{-1} \\dots (eq.15) $$"
   ]
  },
  {
   "cell_type": "markdown",
   "metadata": {},
   "source": [
    "$$ \\partial V_s = \\frac{1}{\\sqrt \\rho} \\frac{1}{2\\sqrt G}\\partial G-\\frac {\\sqrt G}{2 \\rho^{3/2}} \\partial \\rho + {Q_s}^-1\\frac{aH}{2RT^2 \\tan {\\frac {\\pi a}{2}}}(T-T_r) \\dots (eq.16)$$"
   ]
  },
  {
   "cell_type": "code",
   "execution_count": null,
   "metadata": {},
   "outputs": [],
   "source": [
    "def temperature_s ( x, delVs, ep, rho, To, data, P, Vso, Vpo):\n",
    "#    s_modulus0 = Muavg  \n",
    "    data['KPDer'][:] = 0 ;\n",
    "    return ( 1/(2 * np.sqrt(rho * (data['conc'][0] * ( s_modulus0 (data, x, 0 , ep ) +\n",
    "            data['conc'][1] *  s_modulus0 (data, x, 1 , ep ) + data['conc'][2] *\n",
    "            s_modulus0 (data, x, 2 , ep ) ) )) ) ) * (data['conc'][0] * ( s_modulus ( To, data, x, 0 , ep ) +\n",
    "            data['conc'][1] *  s_modulus ( To, data, x, 1 , ep ) + data['conc'][2] *\n",
    "            s_modulus ( To, data, x, 2 , ep ) ) ) - ( ( np.sqrt((data['conc'][0] * ( s_modulus0 (data, x, 0 , ep ) +\n",
    "            data['conc'][1] *  s_modulus0 (data, x, 1 , ep ) + data['conc'][2] *\n",
    "            s_modulus0 (data, x, 2 , ep ) ) ))/( 2 * ( (rho) ** 3/2 ) ) ) * \\\n",
    "            ( data['conc'][0] * density_der (0, rho, To, data, x , ep) +  data['conc'][1] * \n",
    "             density_der (1, rho, To, data, x, ep) + data['conc'][2] * density_der (2, rho, To, data, x, ep ) ) ) \\\n",
    "             + ( ( a * H ) * ( ( A * ( ( 2*np.pi )**a ) * \n",
    "             np.exp ( a * ( H + P*V ) / ( R * To ) ) ) ** -1 ) /(2 * R * ( To ** 2) * np.tan ( np.pi * a/2 ) ) ) \\\n",
    "             * (x - To) - delVs"
   ]
  },
  {
   "cell_type": "code",
   "execution_count": null,
   "metadata": {},
   "outputs": [],
   "source": [
    "# def temperature_s ( x, delVs, ep, rho, To, data, P, Vso, Vpo):\n",
    "#     s_modulus0 = Muavg  \n",
    "#     data['KPDer'][:] = 0 ;\n",
    "#     return ( 1/(2 * np.sqrt(rho_avg * s_modulus0) ) ) * (data['conc'][0] * ( s_modulus ( To, data, x, 0 , ep ) +\n",
    "#             data['conc'][1] *  s_modulus ( To, data, x, 1 , ep ) + data['conc'][2] *\n",
    "#             s_modulus ( To, data, x, 2 , ep ) ) ) - ( ( np.sqrt(s_modulus0)/( 2 * ( (rho_avg) ** 3/2 ) ) ) * \\\n",
    "#             ( data['conc'][0] * density_der (0, rho, To, data, x , ep) +  data['conc'][1] * \n",
    "#              density_der (1, rho, To, data, x, ep) + data['conc'][2] * density_der (2, rho, To, data, x, ep ) ) ) \\\n",
    "#              + ( ( a * H ) * ( ( A * ( ( 2*np.pi )**a ) * \n",
    "#              np.exp ( a * ( H + P*V ) / ( R * To ) ) ) ** -1 ) /(2 * R * ( To ** 2) * np.tan ( np.pi * a/2 ) ) ) \\\n",
    "#              * (x - To) - delVs"
   ]
  },
  {
   "cell_type": "code",
   "execution_count": null,
   "metadata": {},
   "outputs": [],
   "source": [
    "def abstemp_s ( x, delVs, ep, rho, To, data, P, Vso, Vpo):\n",
    "    data['KPDer'][:] = 0 ;\n",
    "    return np.sqrt((data['conc'][0] * s_modulus0 (data, x, 0 , ep )+data['conc'][1] * s_modulus0 (data, x, 1 , ep )+ \n",
    "                    data['conc'][2] * s_modulus0 (data, x, 2 , ep ))/((( data['conc'][0] *  density ( data['a0'][0], data['a1'][0], data['a2'][0], data['rho'][0], x) ) \n",
    "                + ( data['conc'][1] *  density ( data['a0'][1], data['a1'][1], data['a2'][1], data['rho'][1], x) )\n",
    "                + ( data['conc'][2] *  density ( data['a0'][2], data['a1'][2], data['a2'][2], data['rho'][2], x) ) ) \\\n",
    "                * ( ( 1 - ( 2 * ep ) ) ** (3/2) )))*(1-( ( a * H ) * ( ( A * ( ( 2*np.pi )**a ) * \n",
    "             np.exp ( a * ( H + P*V ) / ( R * To ) ) ) ** -1 ) /(2 * R * ( To ** 2) * np.tan ( np.pi * a/2 ) ) ))-Vso"
   ]
  },
  {
   "cell_type": "code",
   "execution_count": null,
   "metadata": {},
   "outputs": [],
   "source": [
    "def solve_T (f, x0, h, delVp, ep, rho, To, data, P, Vso, Vpo):\n",
    "    lastX = x0\n",
    "    nextX = lastX +  10 * h  # \"different than lastX so loop starts OK\n",
    "    while (abs(lastX - nextX) > h):  # this is how you terminate the loop - note use of abs()        \n",
    "        newY  = f (nextX, delVp, ep, rho, To, data, P, Vso, Vpo)          # just for debug... see what happens\n",
    "#         print (newY)     # print out progress... again just debug\n",
    "        lastX = nextX\n",
    "        nextX = lastX -  f (nextX,  delVp, ep, rho, To, data, P, Vso, Vpo) / derivative(f, lastX, h,  delVp, ep, rho, To, data, P, Vso, Vpo)  # update estimate using N-R\n",
    "    return nextX"
   ]
  },
  {
   "cell_type": "code",
   "execution_count": null,
   "metadata": {},
   "outputs": [],
   "source": [
    "To = np.ones(len(depth)) ; ep_cal = np.ones(len(depth))\n",
    "rho_cal = np.ones(len(depth)); T = np.ones(len(depth)) \n",
    "P = np.ones(len(depth)) ; AT = np.ones(len(depth)) "
   ]
  },
  {
   "cell_type": "code",
   "execution_count": null,
   "metadata": {},
   "outputs": [],
   "source": [
    "# invert for temperatures\n",
    "x0 = 500;\n",
    "Ax0= 500;\n",
    "depth_a =  adiabat[:,1] / 1e3 # tomography is in m, easier for comparison\n",
    "T_a = adiabat[:,2]\n",
    "Vp_o  = data_korean[:,4]*1.e3 # unit chang km into m\n",
    "Vs_o  = data_korean[:,6]*1.e3 # unit chang km into m\n",
    "\n",
    "for i in range(len(depth)):\n",
    "#    data['a2'][:] = 0; # ignore second terms\n",
    "    To[i]   = (T_ref[:,1][T_ref[:,0] <= depth[i]].max()) # + 273# reference temperature with depth\n",
    "    ep_cal[i]  = strain [depth_a <= depth[i]].max()\n",
    "    P[i]     = (pressures[depth_a <= depth[i]].max())\n",
    "    rho_cal[i] = rho [depth_a <= depth[i]].max()\n",
    "    \n",
    "#    print(depth[i], Vs_o[i], P[i], rho_cal[i])\n",
    "#     # equation to get x\n",
    "   # T[i]     = solve_T (temperature_s, x0, 1,  S_data_anonmal[i]*1e3, ep_cal[i], rho_cal[i], To[i], data, P[i], Vs_o[i], Vp_o[i])\n",
    "    AT[i]    = solve_T (abstemp_s,    Ax0, 1,  S_data_anonmal[i]*1e3, ep_cal[i], rho_cal[i], To[i], data, P[i], Vs_o[i], Vp_o[i])"
   ]
  },
  {
   "cell_type": "code",
   "execution_count": null,
   "metadata": {},
   "outputs": [],
   "source": [
    "T_results = np.loadtxt('initial_temperature_S_tomography.txt', skiprows=4, usecols=3)"
   ]
  },
  {
   "cell_type": "code",
   "execution_count": null,
   "metadata": {},
   "outputs": [],
   "source": [
    "d_crust = (deep < 20.0) & (deep > 0.0)\n",
    "lat_c = data_korean[d_crust, 1]\n",
    "long_c = data_korean[d_crust, 0]\n",
    "d_c = data_korean[d_crust, 2]\n",
    "T_crust = ((data_korean[d_crust,4] - data_korean[d_crust,6]) * grad_crust) + 273\n",
    "\n",
    "d_crust = (deep < 40.0) & (deep > 20.0)\n",
    "lat_c = data_korean[d_crust, 1]\n",
    "long_c = data_korean[d_crust, 0]\n",
    "d_c = data_korean[d_crust, 2]\n",
    "T_crust = ((data_korean[d_crust,4] - data_korean[d_crust,6]) * grad_crust2) + 473"
   ]
  },
  {
   "cell_type": "code",
   "execution_count": null,
   "metadata": {},
   "outputs": [],
   "source": [
    "print (d_c)"
   ]
  },
  {
   "cell_type": "code",
   "execution_count": null,
   "metadata": {},
   "outputs": [],
   "source": [
    "d_q = np.unique(depth)\n",
    "d_cal   = np.reshape(depth,(len(d_q), 101, 95))\n",
    "#T_cal   = np.reshape(T, (len(d_q), 101, 95))\n",
    "T_cal   = np.reshape(AT, (len(d_q), 101, 95))\n",
    "dVs_cal = np.reshape(S_data_anonmal , (len(d_q), 101, 95))\n",
    "# Vp_cal = np.reshape(Vp, (len(d_q), npts, npts))\n",
    "lat_cal = np.reshape(latitude,(len(d_q), 101, 95))\n",
    "long_cal= np.reshape(longitude,(len(d_q), 101, 95))\n",
    "n = 13\n",
    "(fig, (ax1, ax2)) = plt.subplots(1, 2, figsize=(20,6))\n",
    "plt.rcParams.update({'font.size': 14})\n",
    "CB = ax1.pcolormesh(long_cal[n,:, :], lat_cal[n, :, :], T_cal[n ,:, :], cmap=cm.hot, shading='gouraud')\n",
    "CB1 = ax2.pcolormesh(long_cal[n,:, :], lat_cal[n, :, :], dVs_cal[n ,:, :], cmap=cm.hot, shading='gouraud')\n",
    "cbar = plt.colorbar(CB, shrink=0.6, ax=ax1)\n",
    "cbar2 = plt.colorbar(CB1, shrink=0.6, ax=ax2)\n",
    "\n",
    "CB.axes.set_xlim([122, 135])\n",
    "CB.axes.set_ylim([31, 41])\n",
    "CB1.axes.set_xlim([122, 135])\n",
    "CB1.axes.set_ylim([31, 41])\n",
    "plt.show()\n",
    "print(np.unique(depth)[n])\n",
    "print(np.unique(depth))"
   ]
  },
  {
   "cell_type": "code",
   "execution_count": null,
   "metadata": {
    "scrolled": true
   },
   "outputs": [],
   "source": [
    "print (d_q[14])"
   ]
  },
  {
   "cell_type": "code",
   "execution_count": null,
   "metadata": {},
   "outputs": [],
   "source": [
    "# addting a buffer layer\n",
    "T_c = np.concatenate([ T, T_crust]);\n",
    "T_a = np.concatenate([ AT, T_crust]);\n",
    "lat = np.concatenate([latitude, lat_c])\n",
    "longt = np.concatenate([longitude, long_c])\n",
    "depth_c = np.concatenate([depth, d_c])\n",
    "print (np.shape(lat ), np.shape(depth_c), np.shape(T_c))\n",
    "\n",
    "r = (6370 - depth_c)*1e3\n",
    "long_f = longt*np.pi/180\n",
    "lat_f = (90 - lat)*np.pi/180\n",
    "ind = np.lexsort((r, long_f, lat_f))\n",
    "np.savetxt('initial_temperature_S_tomography.txt', \\\n",
    "            np.stack((r[ind], long_f[ind], lat_f[ind], T_a[ind]), axis=-1))"
   ]
  },
  {
   "cell_type": "code",
   "execution_count": null,
   "metadata": {},
   "outputs": [],
   "source": [
    "min(T)\n",
    "# print([S_data_anonmal == max(S_data_anonmal)])"
   ]
  },
  {
   "cell_type": "code",
   "execution_count": null,
   "metadata": {},
   "outputs": [],
   "source": [
    "print(long_f[ind])\n"
   ]
  }
 ],
 "metadata": {
  "kernelspec": {
   "display_name": "Python 3",
   "language": "python",
   "name": "python3"
  },
  "language_info": {
   "codemirror_mode": {
    "name": "ipython",
    "version": 3
   },
   "file_extension": ".py",
   "mimetype": "text/x-python",
   "name": "python",
   "nbconvert_exporter": "python",
   "pygments_lexer": "ipython3",
   "version": "3.7.1"
  }
 },
 "nbformat": 4,
 "nbformat_minor": 2
}
